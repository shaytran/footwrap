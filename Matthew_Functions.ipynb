{
 "cells": [
  {
   "cell_type": "code",
   "execution_count": 12,
   "metadata": {
    "vscode": {
     "languageId": "r"
    }
   },
   "outputs": [
    {
     "name": "stdout",
     "output_type": "stream",
     "text": [
      "[1] \"c63e714db1msh82da74f7cae7ccbp1aeb67jsnf2684826358a\"\n"
     ]
    }
   ],
   "source": [
    "api_key <- Sys.getenv(\"RAPID-API\")\n",
    "print(api_key)"
   ]
  },
  {
   "cell_type": "code",
   "execution_count": null,
   "metadata": {
    "vscode": {
     "languageId": "r"
    }
   },
   "outputs": [],
   "source": [
    "#Fixture stats\n",
    "#standings\n",
    "#Top scorer, Top assists\n",
    "#transfers"
   ]
  },
  {
   "cell_type": "code",
   "execution_count": 26,
   "metadata": {
    "vscode": {
     "languageId": "r"
    }
   },
   "outputs": [],
   "source": [
    "library(httr)\n",
    "library(jsonlite)\n",
    "library(tidyverse)\n",
    "library(dplyr)\n",
    "library(tidyr)\n",
    "\n",
    "# Top goal scorer Function\n",
    "get_top_scorers <- function(league, season, api_key) {\n",
    "  url <- \"https://api-football-v1.p.rapidapi.com/v3/players/topscorers\"\n",
    "\n",
    "  queryString <- list(\n",
    "    league = as.character(league),\n",
    "    season = as.character(season)\n",
    "  )\n",
    "\n",
    "  response <- VERB(\"GET\", url, query = queryString, add_headers('X-RapidAPI-Key' = api_key, 'X-RapidAPI-Host' = 'api-football-v1.p.rapidapi.com'), content_type(\"application/octet-stream\"))\n",
    "\n",
    "  json_string <- content(response, \"text\")\n",
    "  df <- fromJSON(json_string, flatten = TRUE)\n",
    "\n",
    "  df_data <- as.data.frame(df$response)\n",
    "\n",
    "  # Unnest Statistics column containing goal scorer data\n",
    "  df_unnested <- df_data %>%\n",
    "    unnest(statistics)\n",
    "\n",
    "  # Calls the goal_scorer dashboard function\n",
    "  goal_scorer_dashboard(df_unnested)\n",
    "\n",
    "  # Return the unnested data frame\n",
    "  return(df_unnested)\n",
    "}\n",
    "\n",
    "# Helper Funtion to print goal_scorer\n",
    "goal_scorer_dashboard <- function(df) {\n",
    "  # Sort the data frame by the number of goals in descending order\n",
    "  top_scorers_sorted <- df %>%\n",
    "    arrange(desc(goals.total))\n",
    "\n",
    "  # Select the top 10 scorers\n",
    "  top_10_scorers <- head(top_scorers_sorted, 10)\n",
    "\n",
    "  \n",
    "  league_name <- top_10_scorers$league.name[1]\n",
    "  league_country <- top_10_scorers$league.country[1]\n",
    "\n",
    "  # General League information\n",
    "  cat(\"|------------------------|\\n\")\n",
    "  cat(\"League Name:\", league_name, \"\\n\")\n",
    "  cat(\"League Country:\", league_country, \"\\n\")\n",
    "  cat(\"|------------------------|\\n\")\n",
    "\n",
    "  # Print Top 10 goal Scorers\n",
    "  for (i in 1:nrow(top_10_scorers)) {\n",
    "    scorer <- top_10_scorers[i, ]\n",
    "    cat(\"Team name:\", scorer$team.name, \"\\n\")\n",
    "    cat(\"Player:\", scorer$player.firstname, scorer$player.lastname, \"\\n\")\n",
    "    cat(\"Goals Scored:\", scorer$goals.total, \"\\n\")\n",
    "    cat(\"|----------------------|\\n\")\n",
    "  }\n",
    "}\n"
   ]
  },
  {
   "cell_type": "code",
   "execution_count": 27,
   "metadata": {
    "vscode": {
     "languageId": "r"
    }
   },
   "outputs": [
    {
     "name": "stderr",
     "output_type": "stream",
     "text": [
      "No encoding supplied: defaulting to UTF-8.\n",
      "\n"
     ]
    },
    {
     "name": "stdout",
     "output_type": "stream",
     "text": [
      "|------------------------|\n",
      "League Name: Premier League \n",
      "League Country: England \n",
      "|------------------------|\n",
      "Team name: Tottenham \n",
      "Player: Harry Edward Kane \n",
      "Goals Scored: 23 \n",
      "|----------------------|\n",
      "Team name: Liverpool \n",
      "Player: Mohamed Salah Hamed Mahrous Ghaly \n",
      "Goals Scored: 22 \n",
      "|----------------------|\n",
      "Team name: Manchester United \n",
      "Player: Bruno Miguel Borges Fernandes \n",
      "Goals Scored: 18 \n",
      "|----------------------|\n",
      "Team name: Tottenham \n",
      "Player: Heung-Min Son \n",
      "Goals Scored: 17 \n",
      "|----------------------|\n",
      "Team name: Leeds \n",
      "Player: Patrick James Bamford \n",
      "Goals Scored: 17 \n",
      "|----------------------|\n",
      "Team name: Everton \n",
      "Player: Dominic Nathaniel Calvert-Lewin \n",
      "Goals Scored: 16 \n",
      "|----------------------|\n",
      "Team name: Leicester \n",
      "Player: Jamie Richard Vardy \n",
      "Goals Scored: 15 \n",
      "|----------------------|\n",
      "Team name: Aston Villa \n",
      "Player: Oliver George Arthur Watkins \n",
      "Goals Scored: 14 \n",
      "|----------------------|\n",
      "Team name: Manchester City \n",
      "Player: İlkay Gündoğan \n",
      "Goals Scored: 13 \n",
      "|----------------------|\n",
      "Team name: Arsenal \n",
      "Player: Alexandre Armand Lacazette \n",
      "Goals Scored: 13 \n",
      "|----------------------|\n"
     ]
    }
   ],
   "source": [
    "top_scorers <- get_top_scorers(39, 2020, api_key)"
   ]
  },
  {
   "cell_type": "code",
   "execution_count": 28,
   "metadata": {
    "vscode": {
     "languageId": "r"
    }
   },
   "outputs": [
    {
     "data": {
      "text/html": [
       "<table class=\"dataframe\">\n",
       "<caption>A tibble: 6 × 59</caption>\n",
       "<thead>\n",
       "\t<tr><th scope=col>team.id</th><th scope=col>team.name</th><th scope=col>team.logo</th><th scope=col>league.id</th><th scope=col>league.name</th><th scope=col>league.country</th><th scope=col>league.logo</th><th scope=col>league.flag</th><th scope=col>league.season</th><th scope=col>games.appearences</th><th scope=col>⋯</th><th scope=col>player.lastname</th><th scope=col>player.age</th><th scope=col>player.nationality</th><th scope=col>player.height</th><th scope=col>player.weight</th><th scope=col>player.injured</th><th scope=col>player.photo</th><th scope=col>player.birth.date</th><th scope=col>player.birth.place</th><th scope=col>player.birth.country</th></tr>\n",
       "\t<tr><th scope=col>&lt;int&gt;</th><th scope=col>&lt;chr&gt;</th><th scope=col>&lt;chr&gt;</th><th scope=col>&lt;int&gt;</th><th scope=col>&lt;chr&gt;</th><th scope=col>&lt;chr&gt;</th><th scope=col>&lt;chr&gt;</th><th scope=col>&lt;chr&gt;</th><th scope=col>&lt;int&gt;</th><th scope=col>&lt;int&gt;</th><th scope=col>⋯</th><th scope=col>&lt;chr&gt;</th><th scope=col>&lt;int&gt;</th><th scope=col>&lt;chr&gt;</th><th scope=col>&lt;chr&gt;</th><th scope=col>&lt;chr&gt;</th><th scope=col>&lt;lgl&gt;</th><th scope=col>&lt;chr&gt;</th><th scope=col>&lt;chr&gt;</th><th scope=col>&lt;chr&gt;</th><th scope=col>&lt;chr&gt;</th></tr>\n",
       "</thead>\n",
       "<tbody>\n",
       "\t<tr><td>47</td><td>Tottenham        </td><td>https://media.api-sports.io/football/teams/47.png</td><td>39</td><td>Premier League</td><td>England</td><td>https://media.api-sports.io/football/leagues/39.png</td><td>https://media.api-sports.io/flags/gb.svg</td><td>2020</td><td>35</td><td>⋯</td><td>Kane                     </td><td>31</td><td>England       </td><td>188 cm</td><td>86 kg</td><td>FALSE</td><td>https://media.api-sports.io/football/players/184.png  </td><td>1993-07-28</td><td>London   </td><td>England       </td></tr>\n",
       "\t<tr><td>40</td><td>Liverpool        </td><td>https://media.api-sports.io/football/teams/40.png</td><td>39</td><td>Premier League</td><td>England</td><td>https://media.api-sports.io/football/leagues/39.png</td><td>https://media.api-sports.io/flags/gb.svg</td><td>2020</td><td>37</td><td>⋯</td><td>Salah Hamed Mahrous Ghaly</td><td>32</td><td>Egypt         </td><td>175 cm</td><td>71 kg</td><td>FALSE</td><td>https://media.api-sports.io/football/players/306.png  </td><td>1992-06-15</td><td>Nagrig   </td><td>Egypt         </td></tr>\n",
       "\t<tr><td>33</td><td>Manchester United</td><td>https://media.api-sports.io/football/teams/33.png</td><td>39</td><td>Premier League</td><td>England</td><td>https://media.api-sports.io/football/leagues/39.png</td><td>https://media.api-sports.io/flags/gb.svg</td><td>2020</td><td>37</td><td>⋯</td><td>Borges Fernandes         </td><td>30</td><td>Portugal      </td><td>179 cm</td><td>69 kg</td><td>FALSE</td><td>https://media.api-sports.io/football/players/1485.png </td><td>1994-09-08</td><td>Maia     </td><td>Portugal      </td></tr>\n",
       "\t<tr><td>47</td><td>Tottenham        </td><td>https://media.api-sports.io/football/teams/47.png</td><td>39</td><td>Premier League</td><td>England</td><td>https://media.api-sports.io/football/leagues/39.png</td><td>https://media.api-sports.io/flags/gb.svg</td><td>2020</td><td>37</td><td>⋯</td><td>Son                      </td><td>32</td><td>Korea Republic</td><td>183 cm</td><td>78 kg</td><td>FALSE</td><td>https://media.api-sports.io/football/players/186.png  </td><td>1992-07-08</td><td>Chuncheon</td><td>Korea Republic</td></tr>\n",
       "\t<tr><td>63</td><td>Leeds            </td><td>https://media.api-sports.io/football/teams/63.png</td><td>39</td><td>Premier League</td><td>England</td><td>https://media.api-sports.io/football/leagues/39.png</td><td>https://media.api-sports.io/flags/gb.svg</td><td>2020</td><td>38</td><td>⋯</td><td>Bamford                  </td><td>31</td><td>England       </td><td>185 cm</td><td>71 kg</td><td>FALSE</td><td>https://media.api-sports.io/football/players/19134.png</td><td>1993-09-05</td><td>Grantham </td><td>England       </td></tr>\n",
       "\t<tr><td>45</td><td>Everton          </td><td>https://media.api-sports.io/football/teams/45.png</td><td>39</td><td>Premier League</td><td>England</td><td>https://media.api-sports.io/football/leagues/39.png</td><td>https://media.api-sports.io/flags/gb.svg</td><td>2020</td><td>33</td><td>⋯</td><td>Calvert-Lewin            </td><td>27</td><td>England       </td><td>187 cm</td><td>71 kg</td><td>FALSE</td><td>https://media.api-sports.io/football/players/18766.png</td><td>1997-03-16</td><td>Sheffield</td><td>England       </td></tr>\n",
       "</tbody>\n",
       "</table>\n"
      ],
      "text/latex": [
       "A tibble: 6 × 59\n",
       "\\begin{tabular}{lllllllllllllllllllll}\n",
       " team.id & team.name & team.logo & league.id & league.name & league.country & league.logo & league.flag & league.season & games.appearences & ⋯ & player.lastname & player.age & player.nationality & player.height & player.weight & player.injured & player.photo & player.birth.date & player.birth.place & player.birth.country\\\\\n",
       " <int> & <chr> & <chr> & <int> & <chr> & <chr> & <chr> & <chr> & <int> & <int> & ⋯ & <chr> & <int> & <chr> & <chr> & <chr> & <lgl> & <chr> & <chr> & <chr> & <chr>\\\\\n",
       "\\hline\n",
       "\t 47 & Tottenham         & https://media.api-sports.io/football/teams/47.png & 39 & Premier League & England & https://media.api-sports.io/football/leagues/39.png & https://media.api-sports.io/flags/gb.svg & 2020 & 35 & ⋯ & Kane                      & 31 & England        & 188 cm & 86 kg & FALSE & https://media.api-sports.io/football/players/184.png   & 1993-07-28 & London    & England       \\\\\n",
       "\t 40 & Liverpool         & https://media.api-sports.io/football/teams/40.png & 39 & Premier League & England & https://media.api-sports.io/football/leagues/39.png & https://media.api-sports.io/flags/gb.svg & 2020 & 37 & ⋯ & Salah Hamed Mahrous Ghaly & 32 & Egypt          & 175 cm & 71 kg & FALSE & https://media.api-sports.io/football/players/306.png   & 1992-06-15 & Nagrig    & Egypt         \\\\\n",
       "\t 33 & Manchester United & https://media.api-sports.io/football/teams/33.png & 39 & Premier League & England & https://media.api-sports.io/football/leagues/39.png & https://media.api-sports.io/flags/gb.svg & 2020 & 37 & ⋯ & Borges Fernandes          & 30 & Portugal       & 179 cm & 69 kg & FALSE & https://media.api-sports.io/football/players/1485.png  & 1994-09-08 & Maia      & Portugal      \\\\\n",
       "\t 47 & Tottenham         & https://media.api-sports.io/football/teams/47.png & 39 & Premier League & England & https://media.api-sports.io/football/leagues/39.png & https://media.api-sports.io/flags/gb.svg & 2020 & 37 & ⋯ & Son                       & 32 & Korea Republic & 183 cm & 78 kg & FALSE & https://media.api-sports.io/football/players/186.png   & 1992-07-08 & Chuncheon & Korea Republic\\\\\n",
       "\t 63 & Leeds             & https://media.api-sports.io/football/teams/63.png & 39 & Premier League & England & https://media.api-sports.io/football/leagues/39.png & https://media.api-sports.io/flags/gb.svg & 2020 & 38 & ⋯ & Bamford                   & 31 & England        & 185 cm & 71 kg & FALSE & https://media.api-sports.io/football/players/19134.png & 1993-09-05 & Grantham  & England       \\\\\n",
       "\t 45 & Everton           & https://media.api-sports.io/football/teams/45.png & 39 & Premier League & England & https://media.api-sports.io/football/leagues/39.png & https://media.api-sports.io/flags/gb.svg & 2020 & 33 & ⋯ & Calvert-Lewin             & 27 & England        & 187 cm & 71 kg & FALSE & https://media.api-sports.io/football/players/18766.png & 1997-03-16 & Sheffield & England       \\\\\n",
       "\\end{tabular}\n"
      ],
      "text/markdown": [
       "\n",
       "A tibble: 6 × 59\n",
       "\n",
       "| team.id &lt;int&gt; | team.name &lt;chr&gt; | team.logo &lt;chr&gt; | league.id &lt;int&gt; | league.name &lt;chr&gt; | league.country &lt;chr&gt; | league.logo &lt;chr&gt; | league.flag &lt;chr&gt; | league.season &lt;int&gt; | games.appearences &lt;int&gt; | ⋯ ⋯ | player.lastname &lt;chr&gt; | player.age &lt;int&gt; | player.nationality &lt;chr&gt; | player.height &lt;chr&gt; | player.weight &lt;chr&gt; | player.injured &lt;lgl&gt; | player.photo &lt;chr&gt; | player.birth.date &lt;chr&gt; | player.birth.place &lt;chr&gt; | player.birth.country &lt;chr&gt; |\n",
       "|---|---|---|---|---|---|---|---|---|---|---|---|---|---|---|---|---|---|---|---|---|\n",
       "| 47 | Tottenham         | https://media.api-sports.io/football/teams/47.png | 39 | Premier League | England | https://media.api-sports.io/football/leagues/39.png | https://media.api-sports.io/flags/gb.svg | 2020 | 35 | ⋯ | Kane                      | 31 | England        | 188 cm | 86 kg | FALSE | https://media.api-sports.io/football/players/184.png   | 1993-07-28 | London    | England        |\n",
       "| 40 | Liverpool         | https://media.api-sports.io/football/teams/40.png | 39 | Premier League | England | https://media.api-sports.io/football/leagues/39.png | https://media.api-sports.io/flags/gb.svg | 2020 | 37 | ⋯ | Salah Hamed Mahrous Ghaly | 32 | Egypt          | 175 cm | 71 kg | FALSE | https://media.api-sports.io/football/players/306.png   | 1992-06-15 | Nagrig    | Egypt          |\n",
       "| 33 | Manchester United | https://media.api-sports.io/football/teams/33.png | 39 | Premier League | England | https://media.api-sports.io/football/leagues/39.png | https://media.api-sports.io/flags/gb.svg | 2020 | 37 | ⋯ | Borges Fernandes          | 30 | Portugal       | 179 cm | 69 kg | FALSE | https://media.api-sports.io/football/players/1485.png  | 1994-09-08 | Maia      | Portugal       |\n",
       "| 47 | Tottenham         | https://media.api-sports.io/football/teams/47.png | 39 | Premier League | England | https://media.api-sports.io/football/leagues/39.png | https://media.api-sports.io/flags/gb.svg | 2020 | 37 | ⋯ | Son                       | 32 | Korea Republic | 183 cm | 78 kg | FALSE | https://media.api-sports.io/football/players/186.png   | 1992-07-08 | Chuncheon | Korea Republic |\n",
       "| 63 | Leeds             | https://media.api-sports.io/football/teams/63.png | 39 | Premier League | England | https://media.api-sports.io/football/leagues/39.png | https://media.api-sports.io/flags/gb.svg | 2020 | 38 | ⋯ | Bamford                   | 31 | England        | 185 cm | 71 kg | FALSE | https://media.api-sports.io/football/players/19134.png | 1993-09-05 | Grantham  | England        |\n",
       "| 45 | Everton           | https://media.api-sports.io/football/teams/45.png | 39 | Premier League | England | https://media.api-sports.io/football/leagues/39.png | https://media.api-sports.io/flags/gb.svg | 2020 | 33 | ⋯ | Calvert-Lewin             | 27 | England        | 187 cm | 71 kg | FALSE | https://media.api-sports.io/football/players/18766.png | 1997-03-16 | Sheffield | England        |\n",
       "\n"
      ],
      "text/plain": [
       "  team.id team.name         team.logo                                        \n",
       "1 47      Tottenham         https://media.api-sports.io/football/teams/47.png\n",
       "2 40      Liverpool         https://media.api-sports.io/football/teams/40.png\n",
       "3 33      Manchester United https://media.api-sports.io/football/teams/33.png\n",
       "4 47      Tottenham         https://media.api-sports.io/football/teams/47.png\n",
       "5 63      Leeds             https://media.api-sports.io/football/teams/63.png\n",
       "6 45      Everton           https://media.api-sports.io/football/teams/45.png\n",
       "  league.id league.name    league.country\n",
       "1 39        Premier League England       \n",
       "2 39        Premier League England       \n",
       "3 39        Premier League England       \n",
       "4 39        Premier League England       \n",
       "5 39        Premier League England       \n",
       "6 39        Premier League England       \n",
       "  league.logo                                        \n",
       "1 https://media.api-sports.io/football/leagues/39.png\n",
       "2 https://media.api-sports.io/football/leagues/39.png\n",
       "3 https://media.api-sports.io/football/leagues/39.png\n",
       "4 https://media.api-sports.io/football/leagues/39.png\n",
       "5 https://media.api-sports.io/football/leagues/39.png\n",
       "6 https://media.api-sports.io/football/leagues/39.png\n",
       "  league.flag                              league.season games.appearences ⋯\n",
       "1 https://media.api-sports.io/flags/gb.svg 2020          35                ⋯\n",
       "2 https://media.api-sports.io/flags/gb.svg 2020          37                ⋯\n",
       "3 https://media.api-sports.io/flags/gb.svg 2020          37                ⋯\n",
       "4 https://media.api-sports.io/flags/gb.svg 2020          37                ⋯\n",
       "5 https://media.api-sports.io/flags/gb.svg 2020          38                ⋯\n",
       "6 https://media.api-sports.io/flags/gb.svg 2020          33                ⋯\n",
       "  player.lastname           player.age player.nationality player.height\n",
       "1 Kane                      31         England            188 cm       \n",
       "2 Salah Hamed Mahrous Ghaly 32         Egypt              175 cm       \n",
       "3 Borges Fernandes          30         Portugal           179 cm       \n",
       "4 Son                       32         Korea Republic     183 cm       \n",
       "5 Bamford                   31         England            185 cm       \n",
       "6 Calvert-Lewin             27         England            187 cm       \n",
       "  player.weight player.injured\n",
       "1 86 kg         FALSE         \n",
       "2 71 kg         FALSE         \n",
       "3 69 kg         FALSE         \n",
       "4 78 kg         FALSE         \n",
       "5 71 kg         FALSE         \n",
       "6 71 kg         FALSE         \n",
       "  player.photo                                           player.birth.date\n",
       "1 https://media.api-sports.io/football/players/184.png   1993-07-28       \n",
       "2 https://media.api-sports.io/football/players/306.png   1992-06-15       \n",
       "3 https://media.api-sports.io/football/players/1485.png  1994-09-08       \n",
       "4 https://media.api-sports.io/football/players/186.png   1992-07-08       \n",
       "5 https://media.api-sports.io/football/players/19134.png 1993-09-05       \n",
       "6 https://media.api-sports.io/football/players/18766.png 1997-03-16       \n",
       "  player.birth.place player.birth.country\n",
       "1 London             England             \n",
       "2 Nagrig             Egypt               \n",
       "3 Maia               Portugal            \n",
       "4 Chuncheon          Korea Republic      \n",
       "5 Grantham           England             \n",
       "6 Sheffield          England             "
      ]
     },
     "metadata": {},
     "output_type": "display_data"
    }
   ],
   "source": [
    "head(top_scorers)"
   ]
  }
 ],
 "metadata": {
  "kernelspec": {
   "display_name": "R",
   "language": "R",
   "name": "ir"
  },
  "language_info": {
   "codemirror_mode": "r",
   "file_extension": ".r",
   "mimetype": "text/x-r-source",
   "name": "R",
   "pygments_lexer": "r",
   "version": "4.3.0"
  }
 },
 "nbformat": 4,
 "nbformat_minor": 2
}
