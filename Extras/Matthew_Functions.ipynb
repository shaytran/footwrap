{
 "cells": [
  {
   "cell_type": "markdown",
   "metadata": {},
   "source": [
    "# LIBRARIES"
   ]
  },
  {
   "cell_type": "code",
   "execution_count": 22,
   "metadata": {
    "vscode": {
     "languageId": "r"
    }
   },
   "outputs": [],
   "source": [
    "library(httr)\n",
    "library(jsonlite)\n",
    "library(tidyverse)\n",
    "library(dplyr)\n",
    "library(tidyr)\n",
    "library(testthat)"
   ]
  },
  {
   "cell_type": "code",
   "execution_count": 33,
   "metadata": {
    "vscode": {
     "languageId": "r"
    }
   },
   "outputs": [],
   "source": [
    "library(testthat)"
   ]
  },
  {
   "cell_type": "code",
   "execution_count": null,
   "metadata": {
    "vscode": {
     "languageId": "r"
    }
   },
   "outputs": [],
   "source": []
  },
  {
   "cell_type": "markdown",
   "metadata": {},
   "source": [
    "# API KEY"
   ]
  },
  {
   "cell_type": "code",
   "execution_count": 2,
   "metadata": {
    "vscode": {
     "languageId": "r"
    }
   },
   "outputs": [
    {
     "name": "stdout",
     "output_type": "stream",
     "text": [
      "[1] \"c63e714db1msh82da74f7cae7ccbp1aeb67jsnf2684826358a\"\n"
     ]
    }
   ],
   "source": [
    "api_key <- Sys.getenv(\"RAPID-API\")\n",
    "print(api_key)"
   ]
  },
  {
   "cell_type": "markdown",
   "metadata": {},
   "source": [
    "# HELPER FUNCTIONS"
   ]
  },
  {
   "cell_type": "code",
   "execution_count": 3,
   "metadata": {
    "vscode": {
     "languageId": "r"
    }
   },
   "outputs": [],
   "source": [
    "makeApiRequest <- function(url, queryString, api_key) {\n",
    "  \n",
    "  # Make the GET request to the specified URL with given query parameters and headers\n",
    "  response <- VERB(\"GET\", url, query = queryString,\n",
    "                         add_headers('X-RapidAPI-Key' = api_key,\n",
    "                                           'X-RapidAPI-Host' = 'api-football-v1.p.rapidapi.com'),\n",
    "                         content_type(\"application/octet-stream\"))\n",
    "  \n",
    "  # Return the response object for further processing\n",
    "  json_string <- content(response, \"text\")\n",
    "  \n",
    "  # Convert the JSON string to a dataframe\n",
    "  df <- fromJSON(json_string, flatten = TRUE)\n",
    "  df_data <- as.data.frame(df$response)\n",
    "\n",
    "  return(df_data)\n",
    "}\n"
   ]
  },
  {
   "cell_type": "code",
   "execution_count": 4,
   "metadata": {
    "vscode": {
     "languageId": "r"
    }
   },
   "outputs": [],
   "source": [
    "# Helper Funtion to print goal_scorer\n",
    "goal_scorer_dashboard <- function(df) {\n",
    "  # Sort the data frame by the number of goals in descending order\n",
    "  top_scorers_sorted <- df %>% arrange(desc(goals.total))\n",
    "\n",
    "  # Select the top 10 scorers\n",
    "  top_10_scorers <- head(top_scorers_sorted, 10)\n",
    "\n",
    "  \n",
    "  league_name <- top_10_scorers$league.name[1]\n",
    "  league_country <- top_10_scorers$league.country[1]\n",
    "\n",
    "  # General League information\n",
    "  cat(\"|------------------------|\\n\")\n",
    "  cat(\"League Name:\", league_name, \"\\n\")\n",
    "  cat(\"League Country:\", league_country, \"\\n\")\n",
    "  cat(\"|------------------------|\\n\")\n",
    "\n",
    "  # Print Top 10 goal Scorers\n",
    "  for (i in 1:nrow(top_10_scorers)) {\n",
    "    scorer <- top_10_scorers[i, ]\n",
    "    cat(\"Team name:\", scorer$team.name, \"\\n\")\n",
    "    cat(\"Player:\", scorer$player.firstname, scorer$player.lastname, \"\\n\")\n",
    "    cat(\"Goals Scored:\", scorer$goals.total, \"\\n\")\n",
    "    cat(\"|----------------------|\\n\")\n",
    "  }\n",
    "}"
   ]
  },
  {
   "cell_type": "markdown",
   "metadata": {},
   "source": [
    "# TOP SCORER, TOP ASSISTS"
   ]
  },
  {
   "cell_type": "code",
   "execution_count": 5,
   "metadata": {
    "vscode": {
     "languageId": "r"
    }
   },
   "outputs": [],
   "source": [
    "getTopScorers <- function(league, season, api_key) {\n",
    "  \n",
    "  # Specific url to request\n",
    "  url <- \"https://api-football-v1.p.rapidapi.com/v3/players/topscorers\"\n",
    "\n",
    "  # Hyperparameters\n",
    "  queryString <- list(\n",
    "    league = league,\n",
    "    season = season\n",
    "  )\n",
    "\n",
    "  # Call ApiRequest helper function to obtain dataframe\n",
    "  df_data <- makeApiRequest(url, queryString, api_key)\n",
    "\n",
    "  # Unnest Statistics column containing goal scorer data\n",
    "  df_unnested <- df_data %>% unnest(statistics)\n",
    "  \n",
    "  # Select relevant columns from dataframe\n",
    "  df_unnested <- select(df_unnested, player.firstname, player.lastname, player.nationality, games.position, team.name, \n",
    "                        league.name, games.appearences, goals.total, goals.assists, shots.total, shots.on)\n",
    "  \n",
    "  # Return the unnested data frame\n",
    "  return(df_unnested)\n",
    "}\n"
   ]
  },
  {
   "cell_type": "code",
   "execution_count": 6,
   "metadata": {
    "vscode": {
     "languageId": "r"
    }
   },
   "outputs": [
    {
     "name": "stderr",
     "output_type": "stream",
     "text": [
      "No encoding supplied: defaulting to UTF-8.\n",
      "\n"
     ]
    }
   ],
   "source": [
    "top_scorers <- getTopScorers(39, 2020, api_key)"
   ]
  },
  {
   "cell_type": "code",
   "execution_count": 7,
   "metadata": {
    "vscode": {
     "languageId": "r"
    }
   },
   "outputs": [
    {
     "data": {
      "text/html": [
       "<table class=\"dataframe\">\n",
       "<caption>A tibble: 6 × 11</caption>\n",
       "<thead>\n",
       "\t<tr><th scope=col>player.firstname</th><th scope=col>player.lastname</th><th scope=col>player.nationality</th><th scope=col>games.position</th><th scope=col>team.name</th><th scope=col>league.name</th><th scope=col>games.appearences</th><th scope=col>goals.total</th><th scope=col>goals.assists</th><th scope=col>shots.total</th><th scope=col>shots.on</th></tr>\n",
       "\t<tr><th scope=col>&lt;chr&gt;</th><th scope=col>&lt;chr&gt;</th><th scope=col>&lt;chr&gt;</th><th scope=col>&lt;chr&gt;</th><th scope=col>&lt;chr&gt;</th><th scope=col>&lt;chr&gt;</th><th scope=col>&lt;int&gt;</th><th scope=col>&lt;int&gt;</th><th scope=col>&lt;int&gt;</th><th scope=col>&lt;int&gt;</th><th scope=col>&lt;int&gt;</th></tr>\n",
       "</thead>\n",
       "<tbody>\n",
       "\t<tr><td>Harry Edward     </td><td>Kane                     </td><td>England       </td><td>Attacker  </td><td>Tottenham        </td><td>Premier League</td><td>35</td><td>23</td><td>14</td><td>110</td><td>53</td></tr>\n",
       "\t<tr><td>Mohamed          </td><td>Salah Hamed Mahrous Ghaly</td><td>Egypt         </td><td>Attacker  </td><td>Liverpool        </td><td>Premier League</td><td>37</td><td>22</td><td> 5</td><td> 90</td><td>52</td></tr>\n",
       "\t<tr><td>Bruno Miguel     </td><td>Borges Fernandes         </td><td>Portugal      </td><td>Midfielder</td><td>Manchester United</td><td>Premier League</td><td>37</td><td>18</td><td>12</td><td> 84</td><td>51</td></tr>\n",
       "\t<tr><td>Heung-Min        </td><td>Son                      </td><td>Korea Republic</td><td>Attacker  </td><td>Tottenham        </td><td>Premier League</td><td>37</td><td>17</td><td>10</td><td> 53</td><td>36</td></tr>\n",
       "\t<tr><td>Patrick James    </td><td>Bamford                  </td><td>England       </td><td>Attacker  </td><td>Leeds            </td><td>Premier League</td><td>38</td><td>17</td><td> 7</td><td> 90</td><td>47</td></tr>\n",
       "\t<tr><td>Dominic Nathaniel</td><td>Calvert-Lewin            </td><td>England       </td><td>Attacker  </td><td>Everton          </td><td>Premier League</td><td>33</td><td>16</td><td>NA</td><td> 72</td><td>46</td></tr>\n",
       "</tbody>\n",
       "</table>\n"
      ],
      "text/latex": [
       "A tibble: 6 × 11\n",
       "\\begin{tabular}{lllllllllll}\n",
       " player.firstname & player.lastname & player.nationality & games.position & team.name & league.name & games.appearences & goals.total & goals.assists & shots.total & shots.on\\\\\n",
       " <chr> & <chr> & <chr> & <chr> & <chr> & <chr> & <int> & <int> & <int> & <int> & <int>\\\\\n",
       "\\hline\n",
       "\t Harry Edward      & Kane                      & England        & Attacker   & Tottenham         & Premier League & 35 & 23 & 14 & 110 & 53\\\\\n",
       "\t Mohamed           & Salah Hamed Mahrous Ghaly & Egypt          & Attacker   & Liverpool         & Premier League & 37 & 22 &  5 &  90 & 52\\\\\n",
       "\t Bruno Miguel      & Borges Fernandes          & Portugal       & Midfielder & Manchester United & Premier League & 37 & 18 & 12 &  84 & 51\\\\\n",
       "\t Heung-Min         & Son                       & Korea Republic & Attacker   & Tottenham         & Premier League & 37 & 17 & 10 &  53 & 36\\\\\n",
       "\t Patrick James     & Bamford                   & England        & Attacker   & Leeds             & Premier League & 38 & 17 &  7 &  90 & 47\\\\\n",
       "\t Dominic Nathaniel & Calvert-Lewin             & England        & Attacker   & Everton           & Premier League & 33 & 16 & NA &  72 & 46\\\\\n",
       "\\end{tabular}\n"
      ],
      "text/markdown": [
       "\n",
       "A tibble: 6 × 11\n",
       "\n",
       "| player.firstname &lt;chr&gt; | player.lastname &lt;chr&gt; | player.nationality &lt;chr&gt; | games.position &lt;chr&gt; | team.name &lt;chr&gt; | league.name &lt;chr&gt; | games.appearences &lt;int&gt; | goals.total &lt;int&gt; | goals.assists &lt;int&gt; | shots.total &lt;int&gt; | shots.on &lt;int&gt; |\n",
       "|---|---|---|---|---|---|---|---|---|---|---|\n",
       "| Harry Edward      | Kane                      | England        | Attacker   | Tottenham         | Premier League | 35 | 23 | 14 | 110 | 53 |\n",
       "| Mohamed           | Salah Hamed Mahrous Ghaly | Egypt          | Attacker   | Liverpool         | Premier League | 37 | 22 |  5 |  90 | 52 |\n",
       "| Bruno Miguel      | Borges Fernandes          | Portugal       | Midfielder | Manchester United | Premier League | 37 | 18 | 12 |  84 | 51 |\n",
       "| Heung-Min         | Son                       | Korea Republic | Attacker   | Tottenham         | Premier League | 37 | 17 | 10 |  53 | 36 |\n",
       "| Patrick James     | Bamford                   | England        | Attacker   | Leeds             | Premier League | 38 | 17 |  7 |  90 | 47 |\n",
       "| Dominic Nathaniel | Calvert-Lewin             | England        | Attacker   | Everton           | Premier League | 33 | 16 | NA |  72 | 46 |\n",
       "\n"
      ],
      "text/plain": [
       "  player.firstname  player.lastname           player.nationality games.position\n",
       "1 Harry Edward      Kane                      England            Attacker      \n",
       "2 Mohamed           Salah Hamed Mahrous Ghaly Egypt              Attacker      \n",
       "3 Bruno Miguel      Borges Fernandes          Portugal           Midfielder    \n",
       "4 Heung-Min         Son                       Korea Republic     Attacker      \n",
       "5 Patrick James     Bamford                   England            Attacker      \n",
       "6 Dominic Nathaniel Calvert-Lewin             England            Attacker      \n",
       "  team.name         league.name    games.appearences goals.total goals.assists\n",
       "1 Tottenham         Premier League 35                23          14           \n",
       "2 Liverpool         Premier League 37                22           5           \n",
       "3 Manchester United Premier League 37                18          12           \n",
       "4 Tottenham         Premier League 37                17          10           \n",
       "5 Leeds             Premier League 38                17           7           \n",
       "6 Everton           Premier League 33                16          NA           \n",
       "  shots.total shots.on\n",
       "1 110         53      \n",
       "2  90         52      \n",
       "3  84         51      \n",
       "4  53         36      \n",
       "5  90         47      \n",
       "6  72         46      "
      ]
     },
     "metadata": {},
     "output_type": "display_data"
    }
   ],
   "source": [
    "head(top_scorers)"
   ]
  },
  {
   "cell_type": "code",
   "execution_count": 8,
   "metadata": {
    "vscode": {
     "languageId": "r"
    }
   },
   "outputs": [],
   "source": [
    "getTopAssists <- function(league, season, api_key) {\n",
    "  \n",
    "  # Specific url to request\n",
    "  url <- \"https://api-football-v1.p.rapidapi.com/v3/players/topassists\"\n",
    "\n",
    "  # Hyperparameters\n",
    "  queryString <- list(\n",
    "    league = league,\n",
    "    season = season\n",
    "  )\n",
    "\n",
    "  # Call ApiRequest helper function to obtain dataframe\n",
    "  df_data <- makeApiRequest(url, queryString, api_key)\n",
    "\n",
    "  # Unnest Statistics column containing goal scorer data\n",
    "  df_unnested <- df_data %>% unnest(statistics)\n",
    "  \n",
    "  # Select relevant columns from dataframe\n",
    "  df_unnested <- select(df_unnested, player.firstname, player.lastname, player.nationality, games.position, team.name, league.name,\n",
    "                        games.appearences, goals.assists, goals.total, passes.total, passes.key, passes.accuracy)\n",
    "  \n",
    "  # Return the unnested data frame\n",
    "  return(df_unnested)\n",
    "}\n"
   ]
  },
  {
   "cell_type": "code",
   "execution_count": 9,
   "metadata": {
    "vscode": {
     "languageId": "r"
    }
   },
   "outputs": [
    {
     "name": "stderr",
     "output_type": "stream",
     "text": [
      "No encoding supplied: defaulting to UTF-8.\n",
      "\n"
     ]
    }
   ],
   "source": [
    "top_assists <- getTopAssists(39, 2020, api_key)"
   ]
  },
  {
   "cell_type": "code",
   "execution_count": 10,
   "metadata": {
    "vscode": {
     "languageId": "r"
    }
   },
   "outputs": [
    {
     "data": {
      "text/html": [
       "<table class=\"dataframe\">\n",
       "<caption>A tibble: 6 × 12</caption>\n",
       "<thead>\n",
       "\t<tr><th scope=col>player.firstname</th><th scope=col>player.lastname</th><th scope=col>player.nationality</th><th scope=col>games.position</th><th scope=col>team.name</th><th scope=col>league.name</th><th scope=col>games.appearences</th><th scope=col>goals.assists</th><th scope=col>goals.total</th><th scope=col>passes.total</th><th scope=col>passes.key</th><th scope=col>passes.accuracy</th></tr>\n",
       "\t<tr><th scope=col>&lt;chr&gt;</th><th scope=col>&lt;chr&gt;</th><th scope=col>&lt;chr&gt;</th><th scope=col>&lt;chr&gt;</th><th scope=col>&lt;chr&gt;</th><th scope=col>&lt;chr&gt;</th><th scope=col>&lt;int&gt;</th><th scope=col>&lt;int&gt;</th><th scope=col>&lt;int&gt;</th><th scope=col>&lt;int&gt;</th><th scope=col>&lt;int&gt;</th><th scope=col>&lt;int&gt;</th></tr>\n",
       "</thead>\n",
       "<tbody>\n",
       "\t<tr><td>Harry Edward </td><td>Kane            </td><td>England       </td><td>Attacker  </td><td>Tottenham        </td><td>Premier League</td><td>35</td><td>14</td><td>23</td><td> 909</td><td>51</td><td>18</td></tr>\n",
       "\t<tr><td>Bruno Miguel </td><td>Borges Fernandes</td><td>Portugal      </td><td>Midfielder</td><td>Manchester United</td><td>Premier League</td><td>37</td><td>12</td><td>18</td><td>2109</td><td>97</td><td>44</td></tr>\n",
       "\t<tr><td>Kevin        </td><td>De Bruyne       </td><td>Belgium       </td><td>Midfielder</td><td>Manchester City  </td><td>Premier League</td><td>25</td><td>12</td><td> 6</td><td>1263</td><td>81</td><td>41</td></tr>\n",
       "\t<tr><td>Heung-Min    </td><td>Son             </td><td>Korea Republic</td><td>Attacker  </td><td>Tottenham        </td><td>Premier League</td><td>37</td><td>10</td><td>17</td><td>1056</td><td>76</td><td>23</td></tr>\n",
       "\t<tr><td>Jack Peter   </td><td>Grealish        </td><td>England       </td><td>Midfielder</td><td>Aston Villa      </td><td>Premier League</td><td>26</td><td>10</td><td> 6</td><td> 996</td><td>82</td><td>31</td></tr>\n",
       "\t<tr><td>Jamie Richard</td><td>Vardy           </td><td>England       </td><td>Attacker  </td><td>Leicester        </td><td>Premier League</td><td>34</td><td> 9</td><td>15</td><td> 434</td><td>28</td><td> 8</td></tr>\n",
       "</tbody>\n",
       "</table>\n"
      ],
      "text/latex": [
       "A tibble: 6 × 12\n",
       "\\begin{tabular}{llllllllllll}\n",
       " player.firstname & player.lastname & player.nationality & games.position & team.name & league.name & games.appearences & goals.assists & goals.total & passes.total & passes.key & passes.accuracy\\\\\n",
       " <chr> & <chr> & <chr> & <chr> & <chr> & <chr> & <int> & <int> & <int> & <int> & <int> & <int>\\\\\n",
       "\\hline\n",
       "\t Harry Edward  & Kane             & England        & Attacker   & Tottenham         & Premier League & 35 & 14 & 23 &  909 & 51 & 18\\\\\n",
       "\t Bruno Miguel  & Borges Fernandes & Portugal       & Midfielder & Manchester United & Premier League & 37 & 12 & 18 & 2109 & 97 & 44\\\\\n",
       "\t Kevin         & De Bruyne        & Belgium        & Midfielder & Manchester City   & Premier League & 25 & 12 &  6 & 1263 & 81 & 41\\\\\n",
       "\t Heung-Min     & Son              & Korea Republic & Attacker   & Tottenham         & Premier League & 37 & 10 & 17 & 1056 & 76 & 23\\\\\n",
       "\t Jack Peter    & Grealish         & England        & Midfielder & Aston Villa       & Premier League & 26 & 10 &  6 &  996 & 82 & 31\\\\\n",
       "\t Jamie Richard & Vardy            & England        & Attacker   & Leicester         & Premier League & 34 &  9 & 15 &  434 & 28 &  8\\\\\n",
       "\\end{tabular}\n"
      ],
      "text/markdown": [
       "\n",
       "A tibble: 6 × 12\n",
       "\n",
       "| player.firstname &lt;chr&gt; | player.lastname &lt;chr&gt; | player.nationality &lt;chr&gt; | games.position &lt;chr&gt; | team.name &lt;chr&gt; | league.name &lt;chr&gt; | games.appearences &lt;int&gt; | goals.assists &lt;int&gt; | goals.total &lt;int&gt; | passes.total &lt;int&gt; | passes.key &lt;int&gt; | passes.accuracy &lt;int&gt; |\n",
       "|---|---|---|---|---|---|---|---|---|---|---|---|\n",
       "| Harry Edward  | Kane             | England        | Attacker   | Tottenham         | Premier League | 35 | 14 | 23 |  909 | 51 | 18 |\n",
       "| Bruno Miguel  | Borges Fernandes | Portugal       | Midfielder | Manchester United | Premier League | 37 | 12 | 18 | 2109 | 97 | 44 |\n",
       "| Kevin         | De Bruyne        | Belgium        | Midfielder | Manchester City   | Premier League | 25 | 12 |  6 | 1263 | 81 | 41 |\n",
       "| Heung-Min     | Son              | Korea Republic | Attacker   | Tottenham         | Premier League | 37 | 10 | 17 | 1056 | 76 | 23 |\n",
       "| Jack Peter    | Grealish         | England        | Midfielder | Aston Villa       | Premier League | 26 | 10 |  6 |  996 | 82 | 31 |\n",
       "| Jamie Richard | Vardy            | England        | Attacker   | Leicester         | Premier League | 34 |  9 | 15 |  434 | 28 |  8 |\n",
       "\n"
      ],
      "text/plain": [
       "  player.firstname player.lastname  player.nationality games.position\n",
       "1 Harry Edward     Kane             England            Attacker      \n",
       "2 Bruno Miguel     Borges Fernandes Portugal           Midfielder    \n",
       "3 Kevin            De Bruyne        Belgium            Midfielder    \n",
       "4 Heung-Min        Son              Korea Republic     Attacker      \n",
       "5 Jack Peter       Grealish         England            Midfielder    \n",
       "6 Jamie Richard    Vardy            England            Attacker      \n",
       "  team.name         league.name    games.appearences goals.assists goals.total\n",
       "1 Tottenham         Premier League 35                14            23         \n",
       "2 Manchester United Premier League 37                12            18         \n",
       "3 Manchester City   Premier League 25                12             6         \n",
       "4 Tottenham         Premier League 37                10            17         \n",
       "5 Aston Villa       Premier League 26                10             6         \n",
       "6 Leicester         Premier League 34                 9            15         \n",
       "  passes.total passes.key passes.accuracy\n",
       "1  909         51         18             \n",
       "2 2109         97         44             \n",
       "3 1263         81         41             \n",
       "4 1056         76         23             \n",
       "5  996         82         31             \n",
       "6  434         28          8             "
      ]
     },
     "metadata": {},
     "output_type": "display_data"
    }
   ],
   "source": [
    "head(top_assists)"
   ]
  },
  {
   "cell_type": "markdown",
   "metadata": {},
   "source": [
    "# FIXTURES"
   ]
  },
  {
   "cell_type": "code",
   "execution_count": 11,
   "metadata": {
    "vscode": {
     "languageId": "r"
    }
   },
   "outputs": [],
   "source": [
    "getFootballFixtures <- function(league, season, api_key) {\n",
    "  \n",
    "  # Specific url to request\n",
    "  url <- \"https://api-football-v1.p.rapidapi.com/v3/fixtures\"\n",
    "  \n",
    "  # Hyperparameters\n",
    "  queryString <- list(\n",
    "    league = league,\n",
    "    season = season\n",
    "  )\n",
    "  \n",
    "  # Call ApiRequest helper function to obtain dataframe\n",
    "  df_data <- makeApiRequest(url, queryString, api_key)\n",
    "\n",
    "  # Select relevant columns from dataframe\n",
    "  df_data <- select(df_data, league.name, fixture.venue.name, fixture.date, \n",
    "                           fixture.status.long, teams.home.name, teams.away.name, \n",
    "                           score.fulltime.home, score.fulltime.away)\n",
    "  \n",
    "  return(df_data)\n",
    "}\n"
   ]
  },
  {
   "cell_type": "code",
   "execution_count": 12,
   "metadata": {
    "vscode": {
     "languageId": "r"
    }
   },
   "outputs": [
    {
     "name": "stderr",
     "output_type": "stream",
     "text": [
      "No encoding supplied: defaulting to UTF-8.\n",
      "\n"
     ]
    }
   ],
   "source": [
    "fixtures <- getFootballFixtures(league = 39, season = 2023, api_key)"
   ]
  },
  {
   "cell_type": "code",
   "execution_count": 13,
   "metadata": {
    "vscode": {
     "languageId": "r"
    }
   },
   "outputs": [
    {
     "data": {
      "text/html": [
       "<table class=\"dataframe\">\n",
       "<caption>A data.frame: 6 × 8</caption>\n",
       "<thead>\n",
       "\t<tr><th></th><th scope=col>league.name</th><th scope=col>fixture.venue.name</th><th scope=col>fixture.date</th><th scope=col>fixture.status.long</th><th scope=col>teams.home.name</th><th scope=col>teams.away.name</th><th scope=col>score.fulltime.home</th><th scope=col>score.fulltime.away</th></tr>\n",
       "\t<tr><th></th><th scope=col>&lt;chr&gt;</th><th scope=col>&lt;chr&gt;</th><th scope=col>&lt;chr&gt;</th><th scope=col>&lt;chr&gt;</th><th scope=col>&lt;chr&gt;</th><th scope=col>&lt;chr&gt;</th><th scope=col>&lt;int&gt;</th><th scope=col>&lt;int&gt;</th></tr>\n",
       "</thead>\n",
       "<tbody>\n",
       "\t<tr><th scope=row>1</th><td>Premier League</td><td>Turf Moor                             </td><td>2023-08-11T19:00:00+00:00</td><td>Match Finished</td><td>Burnley      </td><td>Manchester City  </td><td>0</td><td>3</td></tr>\n",
       "\t<tr><th scope=row>2</th><td>Premier League</td><td>Emirates Stadium                      </td><td>2023-08-12T11:30:00+00:00</td><td>Match Finished</td><td>Arsenal      </td><td>Nottingham Forest</td><td>2</td><td>1</td></tr>\n",
       "\t<tr><th scope=row>3</th><td>Premier League</td><td>Vitality Stadium                      </td><td>2023-08-12T14:00:00+00:00</td><td>Match Finished</td><td>Bournemouth  </td><td>West Ham         </td><td>1</td><td>1</td></tr>\n",
       "\t<tr><th scope=row>4</th><td>Premier League</td><td>The American Express Community Stadium</td><td>2023-08-12T14:00:00+00:00</td><td>Match Finished</td><td>Brighton     </td><td>Luton            </td><td>4</td><td>1</td></tr>\n",
       "\t<tr><th scope=row>5</th><td>Premier League</td><td>Goodison Park                         </td><td>2023-08-12T14:00:00+00:00</td><td>Match Finished</td><td>Everton      </td><td>Fulham           </td><td>0</td><td>1</td></tr>\n",
       "\t<tr><th scope=row>6</th><td>Premier League</td><td>Bramall Lane                          </td><td>2023-08-12T14:00:00+00:00</td><td>Match Finished</td><td>Sheffield Utd</td><td>Crystal Palace   </td><td>0</td><td>1</td></tr>\n",
       "</tbody>\n",
       "</table>\n"
      ],
      "text/latex": [
       "A data.frame: 6 × 8\n",
       "\\begin{tabular}{r|llllllll}\n",
       "  & league.name & fixture.venue.name & fixture.date & fixture.status.long & teams.home.name & teams.away.name & score.fulltime.home & score.fulltime.away\\\\\n",
       "  & <chr> & <chr> & <chr> & <chr> & <chr> & <chr> & <int> & <int>\\\\\n",
       "\\hline\n",
       "\t1 & Premier League & Turf Moor                              & 2023-08-11T19:00:00+00:00 & Match Finished & Burnley       & Manchester City   & 0 & 3\\\\\n",
       "\t2 & Premier League & Emirates Stadium                       & 2023-08-12T11:30:00+00:00 & Match Finished & Arsenal       & Nottingham Forest & 2 & 1\\\\\n",
       "\t3 & Premier League & Vitality Stadium                       & 2023-08-12T14:00:00+00:00 & Match Finished & Bournemouth   & West Ham          & 1 & 1\\\\\n",
       "\t4 & Premier League & The American Express Community Stadium & 2023-08-12T14:00:00+00:00 & Match Finished & Brighton      & Luton             & 4 & 1\\\\\n",
       "\t5 & Premier League & Goodison Park                          & 2023-08-12T14:00:00+00:00 & Match Finished & Everton       & Fulham            & 0 & 1\\\\\n",
       "\t6 & Premier League & Bramall Lane                           & 2023-08-12T14:00:00+00:00 & Match Finished & Sheffield Utd & Crystal Palace    & 0 & 1\\\\\n",
       "\\end{tabular}\n"
      ],
      "text/markdown": [
       "\n",
       "A data.frame: 6 × 8\n",
       "\n",
       "| <!--/--> | league.name &lt;chr&gt; | fixture.venue.name &lt;chr&gt; | fixture.date &lt;chr&gt; | fixture.status.long &lt;chr&gt; | teams.home.name &lt;chr&gt; | teams.away.name &lt;chr&gt; | score.fulltime.home &lt;int&gt; | score.fulltime.away &lt;int&gt; |\n",
       "|---|---|---|---|---|---|---|---|---|\n",
       "| 1 | Premier League | Turf Moor                              | 2023-08-11T19:00:00+00:00 | Match Finished | Burnley       | Manchester City   | 0 | 3 |\n",
       "| 2 | Premier League | Emirates Stadium                       | 2023-08-12T11:30:00+00:00 | Match Finished | Arsenal       | Nottingham Forest | 2 | 1 |\n",
       "| 3 | Premier League | Vitality Stadium                       | 2023-08-12T14:00:00+00:00 | Match Finished | Bournemouth   | West Ham          | 1 | 1 |\n",
       "| 4 | Premier League | The American Express Community Stadium | 2023-08-12T14:00:00+00:00 | Match Finished | Brighton      | Luton             | 4 | 1 |\n",
       "| 5 | Premier League | Goodison Park                          | 2023-08-12T14:00:00+00:00 | Match Finished | Everton       | Fulham            | 0 | 1 |\n",
       "| 6 | Premier League | Bramall Lane                           | 2023-08-12T14:00:00+00:00 | Match Finished | Sheffield Utd | Crystal Palace    | 0 | 1 |\n",
       "\n"
      ],
      "text/plain": [
       "  league.name    fixture.venue.name                    \n",
       "1 Premier League Turf Moor                             \n",
       "2 Premier League Emirates Stadium                      \n",
       "3 Premier League Vitality Stadium                      \n",
       "4 Premier League The American Express Community Stadium\n",
       "5 Premier League Goodison Park                         \n",
       "6 Premier League Bramall Lane                          \n",
       "  fixture.date              fixture.status.long teams.home.name\n",
       "1 2023-08-11T19:00:00+00:00 Match Finished      Burnley        \n",
       "2 2023-08-12T11:30:00+00:00 Match Finished      Arsenal        \n",
       "3 2023-08-12T14:00:00+00:00 Match Finished      Bournemouth    \n",
       "4 2023-08-12T14:00:00+00:00 Match Finished      Brighton       \n",
       "5 2023-08-12T14:00:00+00:00 Match Finished      Everton        \n",
       "6 2023-08-12T14:00:00+00:00 Match Finished      Sheffield Utd  \n",
       "  teams.away.name   score.fulltime.home score.fulltime.away\n",
       "1 Manchester City   0                   3                  \n",
       "2 Nottingham Forest 2                   1                  \n",
       "3 West Ham          1                   1                  \n",
       "4 Luton             4                   1                  \n",
       "5 Fulham            0                   1                  \n",
       "6 Crystal Palace    0                   1                  "
      ]
     },
     "metadata": {},
     "output_type": "display_data"
    }
   ],
   "source": [
    "head(fixtures)"
   ]
  },
  {
   "cell_type": "markdown",
   "metadata": {},
   "source": [
    "# LEAGUE STANDINGS\n"
   ]
  },
  {
   "cell_type": "code",
   "execution_count": 14,
   "metadata": {
    "vscode": {
     "languageId": "r"
    }
   },
   "outputs": [],
   "source": [
    "getFootballStandings <- function(league, season, api_key) {\n",
    "  \n",
    "  # Specific url to request\n",
    "  url <- \"https://api-football-v1.p.rapidapi.com/v3/standings\"\n",
    "  \n",
    "  # Hyperparameters\n",
    "  queryString <- list(\n",
    "    league = league,\n",
    "    season = season\n",
    "  )\n",
    "  \n",
    "  # Call ApiRequest helper function to obtain dataframe\n",
    "  df_data <- makeApiRequest(url, queryString, api_key)\n",
    "\n",
    "  # Select relevant columns from dataframe\n",
    "  df_data <- df_data$league.standings\n",
    "\n",
    "  # Unlisting twice to obtain df\n",
    "  inner_list <- df_data[[1]]\n",
    "  standings_df <- inner_list[[1]]\n",
    "  \n",
    "  # Select relevant columns from dataframe\n",
    "  standings_df <- select(standings_df, rank, team.name, group, description, form, points, all.played,\n",
    "                         all.win, all.draw, all.lose, all.goals.for, all.goals.against, goalsDiff)\n",
    "\n",
    "  return(standings_df)\n",
    "}\n"
   ]
  },
  {
   "cell_type": "code",
   "execution_count": 15,
   "metadata": {
    "vscode": {
     "languageId": "r"
    }
   },
   "outputs": [
    {
     "name": "stderr",
     "output_type": "stream",
     "text": [
      "No encoding supplied: defaulting to UTF-8.\n",
      "\n"
     ]
    }
   ],
   "source": [
    "standings <- getFootballStandings(39, 2020, api_key)"
   ]
  },
  {
   "cell_type": "code",
   "execution_count": 16,
   "metadata": {
    "vscode": {
     "languageId": "r"
    }
   },
   "outputs": [
    {
     "data": {
      "text/html": [
       "<table class=\"dataframe\">\n",
       "<caption>A data.frame: 6 × 13</caption>\n",
       "<thead>\n",
       "\t<tr><th></th><th scope=col>rank</th><th scope=col>team.name</th><th scope=col>group</th><th scope=col>description</th><th scope=col>form</th><th scope=col>points</th><th scope=col>all.played</th><th scope=col>all.win</th><th scope=col>all.draw</th><th scope=col>all.lose</th><th scope=col>all.goals.for</th><th scope=col>all.goals.against</th><th scope=col>goalsDiff</th></tr>\n",
       "\t<tr><th></th><th scope=col>&lt;int&gt;</th><th scope=col>&lt;chr&gt;</th><th scope=col>&lt;chr&gt;</th><th scope=col>&lt;chr&gt;</th><th scope=col>&lt;chr&gt;</th><th scope=col>&lt;int&gt;</th><th scope=col>&lt;int&gt;</th><th scope=col>&lt;int&gt;</th><th scope=col>&lt;int&gt;</th><th scope=col>&lt;int&gt;</th><th scope=col>&lt;int&gt;</th><th scope=col>&lt;int&gt;</th><th scope=col>&lt;int&gt;</th></tr>\n",
       "</thead>\n",
       "<tbody>\n",
       "\t<tr><th scope=row>1</th><td>1</td><td>Manchester City  </td><td>Premier League</td><td>Promotion - Champions League (Group Stage)</td><td>WLWLW</td><td>86</td><td>38</td><td>27</td><td> 5</td><td> 6</td><td>83</td><td>32</td><td>51</td></tr>\n",
       "\t<tr><th scope=row>2</th><td>2</td><td>Manchester United</td><td>Premier League</td><td>Promotion - Champions League (Group Stage)</td><td>WDLLW</td><td>74</td><td>38</td><td>21</td><td>11</td><td> 6</td><td>73</td><td>44</td><td>29</td></tr>\n",
       "\t<tr><th scope=row>3</th><td>3</td><td>Liverpool        </td><td>Premier League</td><td>Promotion - Champions League (Group Stage)</td><td>WWWWW</td><td>69</td><td>38</td><td>20</td><td> 9</td><td> 9</td><td>68</td><td>42</td><td>26</td></tr>\n",
       "\t<tr><th scope=row>4</th><td>4</td><td>Chelsea          </td><td>Premier League</td><td>Promotion - Champions League (Group Stage)</td><td>LWLWW</td><td>67</td><td>38</td><td>19</td><td>10</td><td> 9</td><td>58</td><td>36</td><td>22</td></tr>\n",
       "\t<tr><th scope=row>5</th><td>5</td><td>Leicester        </td><td>Premier League</td><td>Promotion - Europa League (Group Stage)   </td><td>LLWLD</td><td>66</td><td>38</td><td>20</td><td> 6</td><td>12</td><td>68</td><td>50</td><td>18</td></tr>\n",
       "\t<tr><th scope=row>6</th><td>6</td><td>West Ham         </td><td>Premier League</td><td>Promotion - Europa League (Group Stage)   </td><td>WWDLW</td><td>65</td><td>38</td><td>19</td><td> 8</td><td>11</td><td>62</td><td>47</td><td>15</td></tr>\n",
       "</tbody>\n",
       "</table>\n"
      ],
      "text/latex": [
       "A data.frame: 6 × 13\n",
       "\\begin{tabular}{r|lllllllllllll}\n",
       "  & rank & team.name & group & description & form & points & all.played & all.win & all.draw & all.lose & all.goals.for & all.goals.against & goalsDiff\\\\\n",
       "  & <int> & <chr> & <chr> & <chr> & <chr> & <int> & <int> & <int> & <int> & <int> & <int> & <int> & <int>\\\\\n",
       "\\hline\n",
       "\t1 & 1 & Manchester City   & Premier League & Promotion - Champions League (Group Stage) & WLWLW & 86 & 38 & 27 &  5 &  6 & 83 & 32 & 51\\\\\n",
       "\t2 & 2 & Manchester United & Premier League & Promotion - Champions League (Group Stage) & WDLLW & 74 & 38 & 21 & 11 &  6 & 73 & 44 & 29\\\\\n",
       "\t3 & 3 & Liverpool         & Premier League & Promotion - Champions League (Group Stage) & WWWWW & 69 & 38 & 20 &  9 &  9 & 68 & 42 & 26\\\\\n",
       "\t4 & 4 & Chelsea           & Premier League & Promotion - Champions League (Group Stage) & LWLWW & 67 & 38 & 19 & 10 &  9 & 58 & 36 & 22\\\\\n",
       "\t5 & 5 & Leicester         & Premier League & Promotion - Europa League (Group Stage)    & LLWLD & 66 & 38 & 20 &  6 & 12 & 68 & 50 & 18\\\\\n",
       "\t6 & 6 & West Ham          & Premier League & Promotion - Europa League (Group Stage)    & WWDLW & 65 & 38 & 19 &  8 & 11 & 62 & 47 & 15\\\\\n",
       "\\end{tabular}\n"
      ],
      "text/markdown": [
       "\n",
       "A data.frame: 6 × 13\n",
       "\n",
       "| <!--/--> | rank &lt;int&gt; | team.name &lt;chr&gt; | group &lt;chr&gt; | description &lt;chr&gt; | form &lt;chr&gt; | points &lt;int&gt; | all.played &lt;int&gt; | all.win &lt;int&gt; | all.draw &lt;int&gt; | all.lose &lt;int&gt; | all.goals.for &lt;int&gt; | all.goals.against &lt;int&gt; | goalsDiff &lt;int&gt; |\n",
       "|---|---|---|---|---|---|---|---|---|---|---|---|---|---|\n",
       "| 1 | 1 | Manchester City   | Premier League | Promotion - Champions League (Group Stage) | WLWLW | 86 | 38 | 27 |  5 |  6 | 83 | 32 | 51 |\n",
       "| 2 | 2 | Manchester United | Premier League | Promotion - Champions League (Group Stage) | WDLLW | 74 | 38 | 21 | 11 |  6 | 73 | 44 | 29 |\n",
       "| 3 | 3 | Liverpool         | Premier League | Promotion - Champions League (Group Stage) | WWWWW | 69 | 38 | 20 |  9 |  9 | 68 | 42 | 26 |\n",
       "| 4 | 4 | Chelsea           | Premier League | Promotion - Champions League (Group Stage) | LWLWW | 67 | 38 | 19 | 10 |  9 | 58 | 36 | 22 |\n",
       "| 5 | 5 | Leicester         | Premier League | Promotion - Europa League (Group Stage)    | LLWLD | 66 | 38 | 20 |  6 | 12 | 68 | 50 | 18 |\n",
       "| 6 | 6 | West Ham          | Premier League | Promotion - Europa League (Group Stage)    | WWDLW | 65 | 38 | 19 |  8 | 11 | 62 | 47 | 15 |\n",
       "\n"
      ],
      "text/plain": [
       "  rank team.name         group         \n",
       "1 1    Manchester City   Premier League\n",
       "2 2    Manchester United Premier League\n",
       "3 3    Liverpool         Premier League\n",
       "4 4    Chelsea           Premier League\n",
       "5 5    Leicester         Premier League\n",
       "6 6    West Ham          Premier League\n",
       "  description                                form  points all.played all.win\n",
       "1 Promotion - Champions League (Group Stage) WLWLW 86     38         27     \n",
       "2 Promotion - Champions League (Group Stage) WDLLW 74     38         21     \n",
       "3 Promotion - Champions League (Group Stage) WWWWW 69     38         20     \n",
       "4 Promotion - Champions League (Group Stage) LWLWW 67     38         19     \n",
       "5 Promotion - Europa League (Group Stage)    LLWLD 66     38         20     \n",
       "6 Promotion - Europa League (Group Stage)    WWDLW 65     38         19     \n",
       "  all.draw all.lose all.goals.for all.goals.against goalsDiff\n",
       "1  5        6       83            32                51       \n",
       "2 11        6       73            44                29       \n",
       "3  9        9       68            42                26       \n",
       "4 10        9       58            36                22       \n",
       "5  6       12       68            50                18       \n",
       "6  8       11       62            47                15       "
      ]
     },
     "metadata": {},
     "output_type": "display_data"
    }
   ],
   "source": [
    "head(standings)"
   ]
  },
  {
   "cell_type": "markdown",
   "metadata": {},
   "source": [
    "# TRANSFERS"
   ]
  },
  {
   "cell_type": "code",
   "execution_count": 18,
   "metadata": {
    "vscode": {
     "languageId": "r"
    }
   },
   "outputs": [],
   "source": [
    "getTeamTransfers <- function(team, api_key) {\n",
    "    \n",
    "    url <- \"https://api-football-v1.p.rapidapi.com/v3/transfers\"\n",
    "\n",
    "    queryString <- list(team = \"33\")\n",
    "\n",
    "    df_data <- makeApiRequest(url, queryString, api_key)\n",
    "    \n",
    "    expanded_df <- unnest(df_data, cols = transfers)\n",
    "\n",
    "    expanded_df <- expanded_df %>%\n",
    "    mutate(date = as.Date(date))\n",
    "\n",
    "    result_df <- expanded_df %>%\n",
    "    select(-1) %>%\n",
    "    arrange(desc(date))\n",
    "\n",
    "    return(result_df)\n",
    "}"
   ]
  },
  {
   "cell_type": "code",
   "execution_count": 19,
   "metadata": {
    "vscode": {
     "languageId": "r"
    }
   },
   "outputs": [
    {
     "name": "stderr",
     "output_type": "stream",
     "text": [
      "No encoding supplied: defaulting to UTF-8.\n",
      "\n"
     ]
    }
   ],
   "source": [
    "transfers <- getTeamTransfers(team = '33', api_key)"
   ]
  },
  {
   "cell_type": "code",
   "execution_count": 20,
   "metadata": {
    "vscode": {
     "languageId": "r"
    }
   },
   "outputs": [
    {
     "data": {
      "text/html": [
       "<table class=\"dataframe\">\n",
       "<caption>A tibble: 638 × 10</caption>\n",
       "<thead>\n",
       "\t<tr><th scope=col>date</th><th scope=col>type</th><th scope=col>teams.in.id</th><th scope=col>teams.in.name</th><th scope=col>teams.in.logo</th><th scope=col>teams.out.id</th><th scope=col>teams.out.name</th><th scope=col>teams.out.logo</th><th scope=col>player.id</th><th scope=col>player.name</th></tr>\n",
       "\t<tr><th scope=col>&lt;date&gt;</th><th scope=col>&lt;chr&gt;</th><th scope=col>&lt;int&gt;</th><th scope=col>&lt;chr&gt;</th><th scope=col>&lt;chr&gt;</th><th scope=col>&lt;int&gt;</th><th scope=col>&lt;chr&gt;</th><th scope=col>&lt;chr&gt;</th><th scope=col>&lt;int&gt;</th><th scope=col>&lt;chr&gt;</th></tr>\n",
       "</thead>\n",
       "<tbody>\n",
       "\t<tr><td>2099-09-01</td><td><span style=white-space:pre-wrap>Loan  </span></td><td><span style=white-space:pre-wrap>  35</span></td><td><span style=white-space:pre-wrap>Bournemouth        </span></td><td><span style=white-space:pre-wrap>https://media.api-sports.io/football/teams/35.png  </span></td><td><span style=white-space:pre-wrap>  33</span></td><td><span style=white-space:pre-wrap>Manchester United  </span></td><td><span style=white-space:pre-wrap>https://media.api-sports.io/football/teams/33.png  </span></td><td> 19609</td><td><span style=white-space:pre-wrap>J. O&amp;apos;Shea  </span></td></tr>\n",
       "\t<tr><td>2098-08-01</td><td>€ 750K</td><td>  33</td><td>Manchester United  </td><td>https://media.api-sports.io/football/teams/33.png  </td><td>1828</td><td>York               </td><td>https://media.api-sports.io/football/teams/1828.png</td><td>115964</td><td>J. Greening     </td></tr>\n",
       "\t<tr><td>2094-07-01</td><td>Loan  </td><td>  59</td><td>Preston            </td><td>https://media.api-sports.io/football/teams/59.png  </td><td>  33</td><td>Manchester United  </td><td>https://media.api-sports.io/football/teams/33.png  </td><td>113755</td><td>D. Beckham      </td></tr>\n",
       "\t<tr><td>2024-07-01</td><td>N/A   </td><td>  33</td><td>Manchester United  </td><td>https://media.api-sports.io/football/teams/33.png  </td><td> 748</td><td>Burton Albion      </td><td>https://media.api-sports.io/football/teams/748.png </td><td>282133</td><td>J. Hugill       </td></tr>\n",
       "\t<tr><td>2024-07-01</td><td>N/A   </td><td>  33</td><td>Manchester United  </td><td>https://media.api-sports.io/football/teams/33.png  </td><td>1351</td><td>Port Vale          </td><td>https://media.api-sports.io/football/teams/1351.png</td><td>303010</td><td>D. Gore         </td></tr>\n",
       "\t<tr><td>2024-07-01</td><td>N/A   </td><td>  33</td><td>Manchester United  </td><td>https://media.api-sports.io/football/teams/33.png  </td><td> 715</td><td>Granada CF         </td><td>https://media.api-sports.io/football/teams/715.png </td><td> 70078</td><td>F. Pellistri    </td></tr>\n",
       "\t<tr><td>2024-07-01</td><td>N/A   </td><td> 502</td><td>Fiorentina         </td><td>https://media.api-sports.io/football/teams/502.png </td><td>  33</td><td>Manchester United  </td><td>https://media.api-sports.io/football/teams/33.png  </td><td>    74</td><td>S. Amrabat      </td></tr>\n",
       "\t<tr><td>2024-07-01</td><td>N/A   </td><td>  33</td><td>Manchester United  </td><td>https://media.api-sports.io/football/teams/33.png  </td><td> 536</td><td>Sevilla            </td><td>https://media.api-sports.io/football/teams/536.png </td><td>180560</td><td>H. Mejbri       </td></tr>\n",
       "\t<tr><td>2024-07-01</td><td>N/A   </td><td>  33</td><td>Manchester United  </td><td>https://media.api-sports.io/football/teams/33.png  </td><td> 546</td><td>Getafe             </td><td>https://media.api-sports.io/football/teams/546.png </td><td>   897</td><td>M. Greenwood    </td></tr>\n",
       "\t<tr><td>2024-07-01</td><td>N/A   </td><td>  33</td><td>Manchester United  </td><td>https://media.api-sports.io/football/teams/33.png  </td><td> 169</td><td>Eintracht Frankfurt</td><td>https://media.api-sports.io/football/teams/169.png </td><td>   547</td><td>D. van de Beek  </td></tr>\n",
       "\t<tr><td>2024-07-01</td><td>N/A   </td><td>  33</td><td>Manchester United  </td><td>https://media.api-sports.io/football/teams/33.png  </td><td> 165</td><td>Borussia Dortmund  </td><td>https://media.api-sports.io/football/teams/165.png </td><td>    18</td><td>J. Sancho       </td></tr>\n",
       "\t<tr><td>2024-07-01</td><td>N/A   </td><td>  33</td><td>Manchester United  </td><td>https://media.api-sports.io/football/teams/33.png  </td><td> 211</td><td>Benfica            </td><td>https://media.api-sports.io/football/teams/211.png </td><td>284300</td><td>Álvaro Fernández</td></tr>\n",
       "\t<tr><td>2024-07-01</td><td>N/A   </td><td>  33</td><td>Manchester United  </td><td>https://media.api-sports.io/football/teams/33.png  </td><td> 211</td><td>Benfica            </td><td>https://media.api-sports.io/football/teams/211.png </td><td>284300</td><td>Álvaro Fernández</td></tr>\n",
       "\t<tr><td>2024-07-01</td><td>N/A   </td><td>  33</td><td>Manchester United  </td><td>https://media.api-sports.io/football/teams/33.png  </td><td> 249</td><td>Hibernian          </td><td>https://media.api-sports.io/football/teams/249.png </td><td>153434</td><td>W. Fish         </td></tr>\n",
       "\t<tr><td>2024-06-01</td><td>N/A   </td><td>  33</td><td>Manchester United  </td><td>https://media.api-sports.io/football/teams/33.png  </td><td>  55</td><td>Brentford          </td><td>https://media.api-sports.io/football/teams/55.png  </td><td>   739</td><td>Sergio Reguilón </td></tr>\n",
       "\t<tr><td>2024-02-01</td><td>N/A   </td><td> 162</td><td>Werder Bremen      </td><td>https://media.api-sports.io/football/teams/162.png </td><td>  33</td><td>Manchester United  </td><td>https://media.api-sports.io/football/teams/33.png  </td><td>216770</td><td>I. Hansen-Aarøen</td></tr>\n",
       "\t<tr><td>2024-01-31</td><td>Loan  </td><td> 715</td><td>Granada CF         </td><td>https://media.api-sports.io/football/teams/715.png </td><td>  33</td><td>Manchester United  </td><td>https://media.api-sports.io/football/teams/33.png  </td><td> 70078</td><td>F. Pellistri    </td></tr>\n",
       "\t<tr><td>2024-01-23</td><td>Loan  </td><td>1351</td><td>Port Vale          </td><td>https://media.api-sports.io/football/teams/1351.png</td><td>  33</td><td>Manchester United  </td><td>https://media.api-sports.io/football/teams/33.png  </td><td>303010</td><td>D. Gore         </td></tr>\n",
       "\t<tr><td>2024-01-16</td><td>Loan  </td><td> 211</td><td>Benfica            </td><td>https://media.api-sports.io/football/teams/211.png </td><td>  33</td><td>Manchester United  </td><td>https://media.api-sports.io/football/teams/33.png  </td><td>284300</td><td>Álvaro Fernández</td></tr>\n",
       "\t<tr><td>2024-01-16</td><td>Loan  </td><td> 211</td><td>Benfica            </td><td>https://media.api-sports.io/football/teams/211.png </td><td>  33</td><td>Manchester United  </td><td>https://media.api-sports.io/football/teams/33.png  </td><td>284300</td><td>Álvaro Fernández</td></tr>\n",
       "\t<tr><td>2024-01-15</td><td>Loan  </td><td> 536</td><td>Sevilla            </td><td>https://media.api-sports.io/football/teams/536.png </td><td>  33</td><td>Manchester United  </td><td>https://media.api-sports.io/football/teams/33.png  </td><td>180560</td><td>H. Mejbri       </td></tr>\n",
       "\t<tr><td>2024-01-12</td><td>Loan  </td><td> 748</td><td>Burton Albion      </td><td>https://media.api-sports.io/football/teams/748.png </td><td>  33</td><td>Manchester United  </td><td>https://media.api-sports.io/football/teams/33.png  </td><td>282133</td><td>J. Hugill       </td></tr>\n",
       "\t<tr><td>2024-01-11</td><td>Loan  </td><td> 165</td><td>Borussia Dortmund  </td><td>https://media.api-sports.io/football/teams/165.png </td><td>  33</td><td>Manchester United  </td><td>https://media.api-sports.io/football/teams/33.png  </td><td>    18</td><td>J. Sancho       </td></tr>\n",
       "\t<tr><td>2024-01-01</td><td>Loan  </td><td> 169</td><td>Eintracht Frankfurt</td><td>https://media.api-sports.io/football/teams/169.png </td><td>  33</td><td>Manchester United  </td><td>https://media.api-sports.io/football/teams/33.png  </td><td>   547</td><td>D. van de Beek  </td></tr>\n",
       "\t<tr><td>2023-09-04</td><td>Free  </td><td> 549</td><td>Besiktas           </td><td>https://media.api-sports.io/football/teams/549.png </td><td>  33</td><td>Manchester United  </td><td>https://media.api-sports.io/football/teams/33.png  </td><td>   885</td><td>E. Bailly       </td></tr>\n",
       "\t<tr><td>2023-09-01</td><td>Loan  </td><td>  33</td><td>Manchester United  </td><td>https://media.api-sports.io/football/teams/33.png  </td><td>  47</td><td>Tottenham          </td><td>https://media.api-sports.io/football/teams/47.png  </td><td>   739</td><td>Sergio Reguilón </td></tr>\n",
       "\t<tr><td>2023-09-01</td><td>Loan  </td><td>  33</td><td>Manchester United  </td><td>https://media.api-sports.io/football/teams/33.png  </td><td> 502</td><td>Fiorentina         </td><td>https://media.api-sports.io/football/teams/502.png </td><td>    74</td><td>S. Amrabat      </td></tr>\n",
       "\t<tr><td>2023-09-01</td><td>€ 5M  </td><td>  33</td><td>Manchester United  </td><td>https://media.api-sports.io/football/teams/33.png  </td><td> 611</td><td>Fenerbahce         </td><td>https://media.api-sports.io/football/teams/611.png </td><td> 50132</td><td>A. Bayındır     </td></tr>\n",
       "\t<tr><td>2023-09-01</td><td>Loan  </td><td> 546</td><td>Getafe             </td><td>https://media.api-sports.io/football/teams/546.png </td><td>  33</td><td>Manchester United  </td><td>https://media.api-sports.io/football/teams/33.png  </td><td>   897</td><td>M. Greenwood    </td></tr>\n",
       "\t<tr><td>2023-09-01</td><td>Loan  </td><td> 715</td><td>Granada CF         </td><td>https://media.api-sports.io/football/teams/715.png </td><td>  33</td><td>Manchester United  </td><td>https://media.api-sports.io/football/teams/33.png  </td><td>284300</td><td>Álvaro Fernández</td></tr>\n",
       "\t<tr><td>⋮</td><td>⋮</td><td>⋮</td><td>⋮</td><td>⋮</td><td>⋮</td><td>⋮</td><td>⋮</td><td>⋮</td><td>⋮</td></tr>\n",
       "\t<tr><td>2005-08-01</td><td>Loan   </td><td>  59</td><td>Preston          </td><td>https://media.api-sports.io/football/teams/59.png  </td><td>  33</td><td>Manchester United  </td><td>https://media.api-sports.io/football/teams/33.png  </td><td> 19390</td><td>David Jones              </td></tr>\n",
       "\t<tr><td>2005-08-01</td><td>Loan   </td><td>1335</td><td>Charlton         </td><td>https://media.api-sports.io/football/teams/1335.png</td><td>  33</td><td>Manchester United  </td><td>https://media.api-sports.io/football/teams/33.png  </td><td> 44837</td><td>J. Spector               </td></tr>\n",
       "\t<tr><td>2005-08-01</td><td>Loan   </td><td>  51</td><td>Brighton         </td><td>https://media.api-sports.io/football/teams/51.png  </td><td>  33</td><td>Manchester United  </td><td>https://media.api-sports.io/football/teams/33.png  </td><td> 19606</td><td>Paul  McShane            </td></tr>\n",
       "\t<tr><td>2005-08-01</td><td>€ 4M   </td><td>  33</td><td>Manchester United</td><td>https://media.api-sports.io/football/teams/33.png  </td><td>  36</td><td>Fulham             </td><td>https://media.api-sports.io/football/teams/36.png  </td><td>115977</td><td>E. van der Sar           </td></tr>\n",
       "\t<tr><td>2005-08-01</td><td>Loan   </td><td>  38</td><td>Watford          </td><td>https://media.api-sports.io/football/teams/38.png  </td><td>  33</td><td>Manchester United  </td><td>https://media.api-sports.io/football/teams/33.png  </td><td> 18791</td><td>B. Foster                </td></tr>\n",
       "\t<tr><td>2005-07-01</td><td>Loan   </td><td>  48</td><td>West Ham         </td><td>https://media.api-sports.io/football/teams/48.png  </td><td>  33</td><td>Manchester United  </td><td>https://media.api-sports.io/football/teams/33.png  </td><td>113701</td><td>D. Bellion               </td></tr>\n",
       "\t<tr><td>2005-07-01</td><td>€ 2M   </td><td>  33</td><td>Manchester United</td><td>https://media.api-sports.io/football/teams/33.png  </td><td>  75</td><td>Stoke City         </td><td>https://media.api-sports.io/football/teams/75.png  </td><td> 18791</td><td>B. Foster                </td></tr>\n",
       "\t<tr><td>2005-01-31</td><td>2.2M € </td><td>  66</td><td>Aston Villa      </td><td>https://media.api-sports.io/football/teams/66.png  </td><td>  33</td><td>Manchester United  </td><td>https://media.api-sports.io/football/teams/33.png  </td><td>117327</td><td>Eric Daniel Djemba-Djemba</td></tr>\n",
       "\t<tr><td>2005-01-01</td><td>Loan   </td><td>  38</td><td>Watford          </td><td>https://media.api-sports.io/football/teams/38.png  </td><td>  33</td><td>Manchester United  </td><td>https://media.api-sports.io/football/teams/33.png  </td><td> 82242</td><td>C. Eagles                </td></tr>\n",
       "\t<tr><td>2004-12-01</td><td>Loan   </td><td>1342</td><td>Walsall          </td><td>https://media.api-sports.io/football/teams/1342.png</td><td>  33</td><td>Manchester United  </td><td>https://media.api-sports.io/football/teams/33.png  </td><td> 19606</td><td>Paul  McShane            </td></tr>\n",
       "\t<tr><td>2004-08-21</td><td>3.2M € </td><td> 533</td><td>Villarreal       </td><td>https://media.api-sports.io/football/teams/533.png </td><td>  33</td><td>Manchester United  </td><td>https://media.api-sports.io/football/teams/33.png  </td><td>110391</td><td>Diego Forlán Corazo      </td></tr>\n",
       "\t<tr><td>2004-08-01</td><td>Free   </td><td>  33</td><td>Manchester United</td><td>https://media.api-sports.io/football/teams/33.png  </td><td> 247</td><td>Celtic             </td><td>https://media.api-sports.io/football/teams/247.png </td><td>103381</td><td>Liam  Miller             </td></tr>\n",
       "\t<tr><td>2004-08-01</td><td>9M €   </td><td>  33</td><td>Manchester United</td><td>https://media.api-sports.io/football/teams/33.png  </td><td>  63</td><td>Leeds              </td><td>https://media.api-sports.io/football/teams/63.png  </td><td> 82150</td><td>Alan Smith               </td></tr>\n",
       "\t<tr><td>2004-08-01</td><td>€ 37M  </td><td>  33</td><td>Manchester United</td><td>https://media.api-sports.io/football/teams/33.png  </td><td>  45</td><td>Everton            </td><td>https://media.api-sports.io/football/teams/45.png  </td><td> 50773</td><td>W. Rooney                </td></tr>\n",
       "\t<tr><td>2004-07-01</td><td>Swap   </td><td>  63</td><td>Leeds            </td><td>https://media.api-sports.io/football/teams/63.png  </td><td>  33</td><td>Manchester United  </td><td>https://media.api-sports.io/football/teams/33.png  </td><td> 17924</td><td>D. Pugh                  </td></tr>\n",
       "\t<tr><td>2003-08-12</td><td>€ 8.6M </td><td>  33</td><td>Manchester United</td><td>https://media.api-sports.io/football/teams/33.png  </td><td> 134</td><td>Atletico Paranaense</td><td>https://media.api-sports.io/football/teams/134.png </td><td>114648</td><td>José Kléberson Pereira   </td></tr>\n",
       "\t<tr><td>2003-08-01</td><td>Free   </td><td>  38</td><td>Watford          </td><td>https://media.api-sports.io/football/teams/38.png  </td><td>  33</td><td>Manchester United  </td><td>https://media.api-sports.io/football/teams/33.png  </td><td>231015</td><td>D. Webber                </td></tr>\n",
       "\t<tr><td>2003-08-01</td><td>Loan   </td><td> 740</td><td>Antwerp          </td><td>https://media.api-sports.io/football/teams/740.png </td><td>  33</td><td>Manchester United  </td><td>https://media.api-sports.io/football/teams/33.png  </td><td> 18912</td><td>P. Bardsley              </td></tr>\n",
       "\t<tr><td>2003-08-01</td><td>€ 3.2M </td><td>  33</td><td>Manchester United</td><td>https://media.api-sports.io/football/teams/33.png  </td><td>1602</td><td>New York Red Bulls </td><td>https://media.api-sports.io/football/teams/1602.png</td><td> 51298</td><td>Timothy Matthew Howard   </td></tr>\n",
       "\t<tr><td>2003-08-01</td><td>€ 3M   </td><td>  33</td><td>Manchester United</td><td>https://media.api-sports.io/football/teams/33.png  </td><td> 746</td><td>Sunderland         </td><td>https://media.api-sports.io/football/teams/746.png </td><td>113701</td><td>D. Bellion               </td></tr>\n",
       "\t<tr><td>2003-08-01</td><td>€ 37.5M</td><td> 541</td><td>Real Madrid      </td><td>https://media.api-sports.io/football/teams/541.png </td><td>  33</td><td>Manchester United  </td><td>https://media.api-sports.io/football/teams/33.png  </td><td>113755</td><td>D. Beckham               </td></tr>\n",
       "\t<tr><td>2003-07-03</td><td>4M €   </td><td>  33</td><td>Manchester United</td><td>https://media.api-sports.io/football/teams/33.png  </td><td>  83</td><td>Nantes             </td><td>https://media.api-sports.io/football/teams/83.png  </td><td>117327</td><td>Eric Daniel Djemba-Djemba</td></tr>\n",
       "\t<tr><td>2003-07-01</td><td>€ 17.5M</td><td>  33</td><td>Manchester United</td><td>https://media.api-sports.io/football/teams/33.png  </td><td> 228</td><td>Sporting CP        </td><td>https://media.api-sports.io/football/teams/228.png </td><td>   874</td><td>Cristiano Ronaldo        </td></tr>\n",
       "\t<tr><td>2002-08-01</td><td>€ 46M  </td><td>  33</td><td>Manchester United</td><td>https://media.api-sports.io/football/teams/33.png  </td><td>  63</td><td>Leeds              </td><td>https://media.api-sports.io/football/teams/63.png  </td><td>114764</td><td>R. Ferdinand             </td></tr>\n",
       "\t<tr><td>2002-02-01</td><td>Loan   </td><td>  38</td><td>Watford          </td><td>https://media.api-sports.io/football/teams/38.png  </td><td>  33</td><td>Manchester United  </td><td>https://media.api-sports.io/football/teams/33.png  </td><td>231015</td><td>D. Webber                </td></tr>\n",
       "\t<tr><td>2002-01-01</td><td>11M €  </td><td>  33</td><td>Manchester United</td><td>https://media.api-sports.io/football/teams/33.png  </td><td> 453</td><td>Independiente      </td><td>https://media.api-sports.io/football/teams/453.png </td><td>110391</td><td>Diego Forlán Corazo      </td></tr>\n",
       "\t<tr><td>2001-12-01</td><td>Loan   </td><td>1351</td><td>Port Vale        </td><td>https://media.api-sports.io/football/teams/1351.png</td><td>  33</td><td>Manchester United  </td><td>https://media.api-sports.io/football/teams/33.png  </td><td>231015</td><td>D. Webber                </td></tr>\n",
       "\t<tr><td>2001-08-01</td><td>€ 3M   </td><td>  70</td><td>Middlesbrough    </td><td>https://media.api-sports.io/football/teams/70.png  </td><td>  33</td><td>Manchester United  </td><td>https://media.api-sports.io/football/teams/33.png  </td><td>115964</td><td>J. Greening              </td></tr>\n",
       "\t<tr><td>2000-09-01</td><td><span style=white-space:pre-wrap>Loan   </span></td><td> 740</td><td><span style=white-space:pre-wrap>Antwerp          </span></td><td>https://media.api-sports.io/football/teams/740.png </td><td><span style=white-space:pre-wrap>  33</span></td><td><span style=white-space:pre-wrap>Manchester United  </span></td><td><span style=white-space:pre-wrap>https://media.api-sports.io/football/teams/33.png  </span></td><td> 19609</td><td><span style=white-space:pre-wrap>J. O&amp;apos;Shea           </span></td></tr>\n",
       "\t<tr><td>2000-08-01</td><td>€ 3M   </td><td>  69</td><td>Derby            </td><td>https://media.api-sports.io/football/teams/69.png  </td><td>  33</td><td>Manchester United  </td><td>https://media.api-sports.io/football/teams/33.png  </td><td>114896</td><td>D. Higginbotham          </td></tr>\n",
       "</tbody>\n",
       "</table>\n"
      ],
      "text/latex": [
       "A tibble: 638 × 10\n",
       "\\begin{tabular}{llllllllll}\n",
       " date & type & teams.in.id & teams.in.name & teams.in.logo & teams.out.id & teams.out.name & teams.out.logo & player.id & player.name\\\\\n",
       " <date> & <chr> & <int> & <chr> & <chr> & <int> & <chr> & <chr> & <int> & <chr>\\\\\n",
       "\\hline\n",
       "\t 2099-09-01 & Loan   &   35 & Bournemouth         & https://media.api-sports.io/football/teams/35.png   &   33 & Manchester United   & https://media.api-sports.io/football/teams/33.png   &  19609 & J. O\\&apos;Shea  \\\\\n",
       "\t 2098-08-01 & € 750K &   33 & Manchester United   & https://media.api-sports.io/football/teams/33.png   & 1828 & York                & https://media.api-sports.io/football/teams/1828.png & 115964 & J. Greening     \\\\\n",
       "\t 2094-07-01 & Loan   &   59 & Preston             & https://media.api-sports.io/football/teams/59.png   &   33 & Manchester United   & https://media.api-sports.io/football/teams/33.png   & 113755 & D. Beckham      \\\\\n",
       "\t 2024-07-01 & N/A    &   33 & Manchester United   & https://media.api-sports.io/football/teams/33.png   &  748 & Burton Albion       & https://media.api-sports.io/football/teams/748.png  & 282133 & J. Hugill       \\\\\n",
       "\t 2024-07-01 & N/A    &   33 & Manchester United   & https://media.api-sports.io/football/teams/33.png   & 1351 & Port Vale           & https://media.api-sports.io/football/teams/1351.png & 303010 & D. Gore         \\\\\n",
       "\t 2024-07-01 & N/A    &   33 & Manchester United   & https://media.api-sports.io/football/teams/33.png   &  715 & Granada CF          & https://media.api-sports.io/football/teams/715.png  &  70078 & F. Pellistri    \\\\\n",
       "\t 2024-07-01 & N/A    &  502 & Fiorentina          & https://media.api-sports.io/football/teams/502.png  &   33 & Manchester United   & https://media.api-sports.io/football/teams/33.png   &     74 & S. Amrabat      \\\\\n",
       "\t 2024-07-01 & N/A    &   33 & Manchester United   & https://media.api-sports.io/football/teams/33.png   &  536 & Sevilla             & https://media.api-sports.io/football/teams/536.png  & 180560 & H. Mejbri       \\\\\n",
       "\t 2024-07-01 & N/A    &   33 & Manchester United   & https://media.api-sports.io/football/teams/33.png   &  546 & Getafe              & https://media.api-sports.io/football/teams/546.png  &    897 & M. Greenwood    \\\\\n",
       "\t 2024-07-01 & N/A    &   33 & Manchester United   & https://media.api-sports.io/football/teams/33.png   &  169 & Eintracht Frankfurt & https://media.api-sports.io/football/teams/169.png  &    547 & D. van de Beek  \\\\\n",
       "\t 2024-07-01 & N/A    &   33 & Manchester United   & https://media.api-sports.io/football/teams/33.png   &  165 & Borussia Dortmund   & https://media.api-sports.io/football/teams/165.png  &     18 & J. Sancho       \\\\\n",
       "\t 2024-07-01 & N/A    &   33 & Manchester United   & https://media.api-sports.io/football/teams/33.png   &  211 & Benfica             & https://media.api-sports.io/football/teams/211.png  & 284300 & Álvaro Fernández\\\\\n",
       "\t 2024-07-01 & N/A    &   33 & Manchester United   & https://media.api-sports.io/football/teams/33.png   &  211 & Benfica             & https://media.api-sports.io/football/teams/211.png  & 284300 & Álvaro Fernández\\\\\n",
       "\t 2024-07-01 & N/A    &   33 & Manchester United   & https://media.api-sports.io/football/teams/33.png   &  249 & Hibernian           & https://media.api-sports.io/football/teams/249.png  & 153434 & W. Fish         \\\\\n",
       "\t 2024-06-01 & N/A    &   33 & Manchester United   & https://media.api-sports.io/football/teams/33.png   &   55 & Brentford           & https://media.api-sports.io/football/teams/55.png   &    739 & Sergio Reguilón \\\\\n",
       "\t 2024-02-01 & N/A    &  162 & Werder Bremen       & https://media.api-sports.io/football/teams/162.png  &   33 & Manchester United   & https://media.api-sports.io/football/teams/33.png   & 216770 & I. Hansen-Aarøen\\\\\n",
       "\t 2024-01-31 & Loan   &  715 & Granada CF          & https://media.api-sports.io/football/teams/715.png  &   33 & Manchester United   & https://media.api-sports.io/football/teams/33.png   &  70078 & F. Pellistri    \\\\\n",
       "\t 2024-01-23 & Loan   & 1351 & Port Vale           & https://media.api-sports.io/football/teams/1351.png &   33 & Manchester United   & https://media.api-sports.io/football/teams/33.png   & 303010 & D. Gore         \\\\\n",
       "\t 2024-01-16 & Loan   &  211 & Benfica             & https://media.api-sports.io/football/teams/211.png  &   33 & Manchester United   & https://media.api-sports.io/football/teams/33.png   & 284300 & Álvaro Fernández\\\\\n",
       "\t 2024-01-16 & Loan   &  211 & Benfica             & https://media.api-sports.io/football/teams/211.png  &   33 & Manchester United   & https://media.api-sports.io/football/teams/33.png   & 284300 & Álvaro Fernández\\\\\n",
       "\t 2024-01-15 & Loan   &  536 & Sevilla             & https://media.api-sports.io/football/teams/536.png  &   33 & Manchester United   & https://media.api-sports.io/football/teams/33.png   & 180560 & H. Mejbri       \\\\\n",
       "\t 2024-01-12 & Loan   &  748 & Burton Albion       & https://media.api-sports.io/football/teams/748.png  &   33 & Manchester United   & https://media.api-sports.io/football/teams/33.png   & 282133 & J. Hugill       \\\\\n",
       "\t 2024-01-11 & Loan   &  165 & Borussia Dortmund   & https://media.api-sports.io/football/teams/165.png  &   33 & Manchester United   & https://media.api-sports.io/football/teams/33.png   &     18 & J. Sancho       \\\\\n",
       "\t 2024-01-01 & Loan   &  169 & Eintracht Frankfurt & https://media.api-sports.io/football/teams/169.png  &   33 & Manchester United   & https://media.api-sports.io/football/teams/33.png   &    547 & D. van de Beek  \\\\\n",
       "\t 2023-09-04 & Free   &  549 & Besiktas            & https://media.api-sports.io/football/teams/549.png  &   33 & Manchester United   & https://media.api-sports.io/football/teams/33.png   &    885 & E. Bailly       \\\\\n",
       "\t 2023-09-01 & Loan   &   33 & Manchester United   & https://media.api-sports.io/football/teams/33.png   &   47 & Tottenham           & https://media.api-sports.io/football/teams/47.png   &    739 & Sergio Reguilón \\\\\n",
       "\t 2023-09-01 & Loan   &   33 & Manchester United   & https://media.api-sports.io/football/teams/33.png   &  502 & Fiorentina          & https://media.api-sports.io/football/teams/502.png  &     74 & S. Amrabat      \\\\\n",
       "\t 2023-09-01 & € 5M   &   33 & Manchester United   & https://media.api-sports.io/football/teams/33.png   &  611 & Fenerbahce          & https://media.api-sports.io/football/teams/611.png  &  50132 & A. Bayındır     \\\\\n",
       "\t 2023-09-01 & Loan   &  546 & Getafe              & https://media.api-sports.io/football/teams/546.png  &   33 & Manchester United   & https://media.api-sports.io/football/teams/33.png   &    897 & M. Greenwood    \\\\\n",
       "\t 2023-09-01 & Loan   &  715 & Granada CF          & https://media.api-sports.io/football/teams/715.png  &   33 & Manchester United   & https://media.api-sports.io/football/teams/33.png   & 284300 & Álvaro Fernández\\\\\n",
       "\t ⋮ & ⋮ & ⋮ & ⋮ & ⋮ & ⋮ & ⋮ & ⋮ & ⋮ & ⋮\\\\\n",
       "\t 2005-08-01 & Loan    &   59 & Preston           & https://media.api-sports.io/football/teams/59.png   &   33 & Manchester United   & https://media.api-sports.io/football/teams/33.png   &  19390 & David Jones              \\\\\n",
       "\t 2005-08-01 & Loan    & 1335 & Charlton          & https://media.api-sports.io/football/teams/1335.png &   33 & Manchester United   & https://media.api-sports.io/football/teams/33.png   &  44837 & J. Spector               \\\\\n",
       "\t 2005-08-01 & Loan    &   51 & Brighton          & https://media.api-sports.io/football/teams/51.png   &   33 & Manchester United   & https://media.api-sports.io/football/teams/33.png   &  19606 & Paul  McShane            \\\\\n",
       "\t 2005-08-01 & € 4M    &   33 & Manchester United & https://media.api-sports.io/football/teams/33.png   &   36 & Fulham              & https://media.api-sports.io/football/teams/36.png   & 115977 & E. van der Sar           \\\\\n",
       "\t 2005-08-01 & Loan    &   38 & Watford           & https://media.api-sports.io/football/teams/38.png   &   33 & Manchester United   & https://media.api-sports.io/football/teams/33.png   &  18791 & B. Foster                \\\\\n",
       "\t 2005-07-01 & Loan    &   48 & West Ham          & https://media.api-sports.io/football/teams/48.png   &   33 & Manchester United   & https://media.api-sports.io/football/teams/33.png   & 113701 & D. Bellion               \\\\\n",
       "\t 2005-07-01 & € 2M    &   33 & Manchester United & https://media.api-sports.io/football/teams/33.png   &   75 & Stoke City          & https://media.api-sports.io/football/teams/75.png   &  18791 & B. Foster                \\\\\n",
       "\t 2005-01-31 & 2.2M €  &   66 & Aston Villa       & https://media.api-sports.io/football/teams/66.png   &   33 & Manchester United   & https://media.api-sports.io/football/teams/33.png   & 117327 & Eric Daniel Djemba-Djemba\\\\\n",
       "\t 2005-01-01 & Loan    &   38 & Watford           & https://media.api-sports.io/football/teams/38.png   &   33 & Manchester United   & https://media.api-sports.io/football/teams/33.png   &  82242 & C. Eagles                \\\\\n",
       "\t 2004-12-01 & Loan    & 1342 & Walsall           & https://media.api-sports.io/football/teams/1342.png &   33 & Manchester United   & https://media.api-sports.io/football/teams/33.png   &  19606 & Paul  McShane            \\\\\n",
       "\t 2004-08-21 & 3.2M €  &  533 & Villarreal        & https://media.api-sports.io/football/teams/533.png  &   33 & Manchester United   & https://media.api-sports.io/football/teams/33.png   & 110391 & Diego Forlán Corazo      \\\\\n",
       "\t 2004-08-01 & Free    &   33 & Manchester United & https://media.api-sports.io/football/teams/33.png   &  247 & Celtic              & https://media.api-sports.io/football/teams/247.png  & 103381 & Liam  Miller             \\\\\n",
       "\t 2004-08-01 & 9M €    &   33 & Manchester United & https://media.api-sports.io/football/teams/33.png   &   63 & Leeds               & https://media.api-sports.io/football/teams/63.png   &  82150 & Alan Smith               \\\\\n",
       "\t 2004-08-01 & € 37M   &   33 & Manchester United & https://media.api-sports.io/football/teams/33.png   &   45 & Everton             & https://media.api-sports.io/football/teams/45.png   &  50773 & W. Rooney                \\\\\n",
       "\t 2004-07-01 & Swap    &   63 & Leeds             & https://media.api-sports.io/football/teams/63.png   &   33 & Manchester United   & https://media.api-sports.io/football/teams/33.png   &  17924 & D. Pugh                  \\\\\n",
       "\t 2003-08-12 & € 8.6M  &   33 & Manchester United & https://media.api-sports.io/football/teams/33.png   &  134 & Atletico Paranaense & https://media.api-sports.io/football/teams/134.png  & 114648 & José Kléberson Pereira   \\\\\n",
       "\t 2003-08-01 & Free    &   38 & Watford           & https://media.api-sports.io/football/teams/38.png   &   33 & Manchester United   & https://media.api-sports.io/football/teams/33.png   & 231015 & D. Webber                \\\\\n",
       "\t 2003-08-01 & Loan    &  740 & Antwerp           & https://media.api-sports.io/football/teams/740.png  &   33 & Manchester United   & https://media.api-sports.io/football/teams/33.png   &  18912 & P. Bardsley              \\\\\n",
       "\t 2003-08-01 & € 3.2M  &   33 & Manchester United & https://media.api-sports.io/football/teams/33.png   & 1602 & New York Red Bulls  & https://media.api-sports.io/football/teams/1602.png &  51298 & Timothy Matthew Howard   \\\\\n",
       "\t 2003-08-01 & € 3M    &   33 & Manchester United & https://media.api-sports.io/football/teams/33.png   &  746 & Sunderland          & https://media.api-sports.io/football/teams/746.png  & 113701 & D. Bellion               \\\\\n",
       "\t 2003-08-01 & € 37.5M &  541 & Real Madrid       & https://media.api-sports.io/football/teams/541.png  &   33 & Manchester United   & https://media.api-sports.io/football/teams/33.png   & 113755 & D. Beckham               \\\\\n",
       "\t 2003-07-03 & 4M €    &   33 & Manchester United & https://media.api-sports.io/football/teams/33.png   &   83 & Nantes              & https://media.api-sports.io/football/teams/83.png   & 117327 & Eric Daniel Djemba-Djemba\\\\\n",
       "\t 2003-07-01 & € 17.5M &   33 & Manchester United & https://media.api-sports.io/football/teams/33.png   &  228 & Sporting CP         & https://media.api-sports.io/football/teams/228.png  &    874 & Cristiano Ronaldo        \\\\\n",
       "\t 2002-08-01 & € 46M   &   33 & Manchester United & https://media.api-sports.io/football/teams/33.png   &   63 & Leeds               & https://media.api-sports.io/football/teams/63.png   & 114764 & R. Ferdinand             \\\\\n",
       "\t 2002-02-01 & Loan    &   38 & Watford           & https://media.api-sports.io/football/teams/38.png   &   33 & Manchester United   & https://media.api-sports.io/football/teams/33.png   & 231015 & D. Webber                \\\\\n",
       "\t 2002-01-01 & 11M €   &   33 & Manchester United & https://media.api-sports.io/football/teams/33.png   &  453 & Independiente       & https://media.api-sports.io/football/teams/453.png  & 110391 & Diego Forlán Corazo      \\\\\n",
       "\t 2001-12-01 & Loan    & 1351 & Port Vale         & https://media.api-sports.io/football/teams/1351.png &   33 & Manchester United   & https://media.api-sports.io/football/teams/33.png   & 231015 & D. Webber                \\\\\n",
       "\t 2001-08-01 & € 3M    &   70 & Middlesbrough     & https://media.api-sports.io/football/teams/70.png   &   33 & Manchester United   & https://media.api-sports.io/football/teams/33.png   & 115964 & J. Greening              \\\\\n",
       "\t 2000-09-01 & Loan    &  740 & Antwerp           & https://media.api-sports.io/football/teams/740.png  &   33 & Manchester United   & https://media.api-sports.io/football/teams/33.png   &  19609 & J. O\\&apos;Shea           \\\\\n",
       "\t 2000-08-01 & € 3M    &   69 & Derby             & https://media.api-sports.io/football/teams/69.png   &   33 & Manchester United   & https://media.api-sports.io/football/teams/33.png   & 114896 & D. Higginbotham          \\\\\n",
       "\\end{tabular}\n"
      ],
      "text/markdown": [
       "\n",
       "A tibble: 638 × 10\n",
       "\n",
       "| date &lt;date&gt; | type &lt;chr&gt; | teams.in.id &lt;int&gt; | teams.in.name &lt;chr&gt; | teams.in.logo &lt;chr&gt; | teams.out.id &lt;int&gt; | teams.out.name &lt;chr&gt; | teams.out.logo &lt;chr&gt; | player.id &lt;int&gt; | player.name &lt;chr&gt; |\n",
       "|---|---|---|---|---|---|---|---|---|---|\n",
       "| 2099-09-01 | Loan   |   35 | Bournemouth         | https://media.api-sports.io/football/teams/35.png   |   33 | Manchester United   | https://media.api-sports.io/football/teams/33.png   |  19609 | J. O&amp;apos;Shea   |\n",
       "| 2098-08-01 | € 750K |   33 | Manchester United   | https://media.api-sports.io/football/teams/33.png   | 1828 | York                | https://media.api-sports.io/football/teams/1828.png | 115964 | J. Greening      |\n",
       "| 2094-07-01 | Loan   |   59 | Preston             | https://media.api-sports.io/football/teams/59.png   |   33 | Manchester United   | https://media.api-sports.io/football/teams/33.png   | 113755 | D. Beckham       |\n",
       "| 2024-07-01 | N/A    |   33 | Manchester United   | https://media.api-sports.io/football/teams/33.png   |  748 | Burton Albion       | https://media.api-sports.io/football/teams/748.png  | 282133 | J. Hugill        |\n",
       "| 2024-07-01 | N/A    |   33 | Manchester United   | https://media.api-sports.io/football/teams/33.png   | 1351 | Port Vale           | https://media.api-sports.io/football/teams/1351.png | 303010 | D. Gore          |\n",
       "| 2024-07-01 | N/A    |   33 | Manchester United   | https://media.api-sports.io/football/teams/33.png   |  715 | Granada CF          | https://media.api-sports.io/football/teams/715.png  |  70078 | F. Pellistri     |\n",
       "| 2024-07-01 | N/A    |  502 | Fiorentina          | https://media.api-sports.io/football/teams/502.png  |   33 | Manchester United   | https://media.api-sports.io/football/teams/33.png   |     74 | S. Amrabat       |\n",
       "| 2024-07-01 | N/A    |   33 | Manchester United   | https://media.api-sports.io/football/teams/33.png   |  536 | Sevilla             | https://media.api-sports.io/football/teams/536.png  | 180560 | H. Mejbri        |\n",
       "| 2024-07-01 | N/A    |   33 | Manchester United   | https://media.api-sports.io/football/teams/33.png   |  546 | Getafe              | https://media.api-sports.io/football/teams/546.png  |    897 | M. Greenwood     |\n",
       "| 2024-07-01 | N/A    |   33 | Manchester United   | https://media.api-sports.io/football/teams/33.png   |  169 | Eintracht Frankfurt | https://media.api-sports.io/football/teams/169.png  |    547 | D. van de Beek   |\n",
       "| 2024-07-01 | N/A    |   33 | Manchester United   | https://media.api-sports.io/football/teams/33.png   |  165 | Borussia Dortmund   | https://media.api-sports.io/football/teams/165.png  |     18 | J. Sancho        |\n",
       "| 2024-07-01 | N/A    |   33 | Manchester United   | https://media.api-sports.io/football/teams/33.png   |  211 | Benfica             | https://media.api-sports.io/football/teams/211.png  | 284300 | Álvaro Fernández |\n",
       "| 2024-07-01 | N/A    |   33 | Manchester United   | https://media.api-sports.io/football/teams/33.png   |  211 | Benfica             | https://media.api-sports.io/football/teams/211.png  | 284300 | Álvaro Fernández |\n",
       "| 2024-07-01 | N/A    |   33 | Manchester United   | https://media.api-sports.io/football/teams/33.png   |  249 | Hibernian           | https://media.api-sports.io/football/teams/249.png  | 153434 | W. Fish          |\n",
       "| 2024-06-01 | N/A    |   33 | Manchester United   | https://media.api-sports.io/football/teams/33.png   |   55 | Brentford           | https://media.api-sports.io/football/teams/55.png   |    739 | Sergio Reguilón  |\n",
       "| 2024-02-01 | N/A    |  162 | Werder Bremen       | https://media.api-sports.io/football/teams/162.png  |   33 | Manchester United   | https://media.api-sports.io/football/teams/33.png   | 216770 | I. Hansen-Aarøen |\n",
       "| 2024-01-31 | Loan   |  715 | Granada CF          | https://media.api-sports.io/football/teams/715.png  |   33 | Manchester United   | https://media.api-sports.io/football/teams/33.png   |  70078 | F. Pellistri     |\n",
       "| 2024-01-23 | Loan   | 1351 | Port Vale           | https://media.api-sports.io/football/teams/1351.png |   33 | Manchester United   | https://media.api-sports.io/football/teams/33.png   | 303010 | D. Gore          |\n",
       "| 2024-01-16 | Loan   |  211 | Benfica             | https://media.api-sports.io/football/teams/211.png  |   33 | Manchester United   | https://media.api-sports.io/football/teams/33.png   | 284300 | Álvaro Fernández |\n",
       "| 2024-01-16 | Loan   |  211 | Benfica             | https://media.api-sports.io/football/teams/211.png  |   33 | Manchester United   | https://media.api-sports.io/football/teams/33.png   | 284300 | Álvaro Fernández |\n",
       "| 2024-01-15 | Loan   |  536 | Sevilla             | https://media.api-sports.io/football/teams/536.png  |   33 | Manchester United   | https://media.api-sports.io/football/teams/33.png   | 180560 | H. Mejbri        |\n",
       "| 2024-01-12 | Loan   |  748 | Burton Albion       | https://media.api-sports.io/football/teams/748.png  |   33 | Manchester United   | https://media.api-sports.io/football/teams/33.png   | 282133 | J. Hugill        |\n",
       "| 2024-01-11 | Loan   |  165 | Borussia Dortmund   | https://media.api-sports.io/football/teams/165.png  |   33 | Manchester United   | https://media.api-sports.io/football/teams/33.png   |     18 | J. Sancho        |\n",
       "| 2024-01-01 | Loan   |  169 | Eintracht Frankfurt | https://media.api-sports.io/football/teams/169.png  |   33 | Manchester United   | https://media.api-sports.io/football/teams/33.png   |    547 | D. van de Beek   |\n",
       "| 2023-09-04 | Free   |  549 | Besiktas            | https://media.api-sports.io/football/teams/549.png  |   33 | Manchester United   | https://media.api-sports.io/football/teams/33.png   |    885 | E. Bailly        |\n",
       "| 2023-09-01 | Loan   |   33 | Manchester United   | https://media.api-sports.io/football/teams/33.png   |   47 | Tottenham           | https://media.api-sports.io/football/teams/47.png   |    739 | Sergio Reguilón  |\n",
       "| 2023-09-01 | Loan   |   33 | Manchester United   | https://media.api-sports.io/football/teams/33.png   |  502 | Fiorentina          | https://media.api-sports.io/football/teams/502.png  |     74 | S. Amrabat       |\n",
       "| 2023-09-01 | € 5M   |   33 | Manchester United   | https://media.api-sports.io/football/teams/33.png   |  611 | Fenerbahce          | https://media.api-sports.io/football/teams/611.png  |  50132 | A. Bayındır      |\n",
       "| 2023-09-01 | Loan   |  546 | Getafe              | https://media.api-sports.io/football/teams/546.png  |   33 | Manchester United   | https://media.api-sports.io/football/teams/33.png   |    897 | M. Greenwood     |\n",
       "| 2023-09-01 | Loan   |  715 | Granada CF          | https://media.api-sports.io/football/teams/715.png  |   33 | Manchester United   | https://media.api-sports.io/football/teams/33.png   | 284300 | Álvaro Fernández |\n",
       "| ⋮ | ⋮ | ⋮ | ⋮ | ⋮ | ⋮ | ⋮ | ⋮ | ⋮ | ⋮ |\n",
       "| 2005-08-01 | Loan    |   59 | Preston           | https://media.api-sports.io/football/teams/59.png   |   33 | Manchester United   | https://media.api-sports.io/football/teams/33.png   |  19390 | David Jones               |\n",
       "| 2005-08-01 | Loan    | 1335 | Charlton          | https://media.api-sports.io/football/teams/1335.png |   33 | Manchester United   | https://media.api-sports.io/football/teams/33.png   |  44837 | J. Spector                |\n",
       "| 2005-08-01 | Loan    |   51 | Brighton          | https://media.api-sports.io/football/teams/51.png   |   33 | Manchester United   | https://media.api-sports.io/football/teams/33.png   |  19606 | Paul  McShane             |\n",
       "| 2005-08-01 | € 4M    |   33 | Manchester United | https://media.api-sports.io/football/teams/33.png   |   36 | Fulham              | https://media.api-sports.io/football/teams/36.png   | 115977 | E. van der Sar            |\n",
       "| 2005-08-01 | Loan    |   38 | Watford           | https://media.api-sports.io/football/teams/38.png   |   33 | Manchester United   | https://media.api-sports.io/football/teams/33.png   |  18791 | B. Foster                 |\n",
       "| 2005-07-01 | Loan    |   48 | West Ham          | https://media.api-sports.io/football/teams/48.png   |   33 | Manchester United   | https://media.api-sports.io/football/teams/33.png   | 113701 | D. Bellion                |\n",
       "| 2005-07-01 | € 2M    |   33 | Manchester United | https://media.api-sports.io/football/teams/33.png   |   75 | Stoke City          | https://media.api-sports.io/football/teams/75.png   |  18791 | B. Foster                 |\n",
       "| 2005-01-31 | 2.2M €  |   66 | Aston Villa       | https://media.api-sports.io/football/teams/66.png   |   33 | Manchester United   | https://media.api-sports.io/football/teams/33.png   | 117327 | Eric Daniel Djemba-Djemba |\n",
       "| 2005-01-01 | Loan    |   38 | Watford           | https://media.api-sports.io/football/teams/38.png   |   33 | Manchester United   | https://media.api-sports.io/football/teams/33.png   |  82242 | C. Eagles                 |\n",
       "| 2004-12-01 | Loan    | 1342 | Walsall           | https://media.api-sports.io/football/teams/1342.png |   33 | Manchester United   | https://media.api-sports.io/football/teams/33.png   |  19606 | Paul  McShane             |\n",
       "| 2004-08-21 | 3.2M €  |  533 | Villarreal        | https://media.api-sports.io/football/teams/533.png  |   33 | Manchester United   | https://media.api-sports.io/football/teams/33.png   | 110391 | Diego Forlán Corazo       |\n",
       "| 2004-08-01 | Free    |   33 | Manchester United | https://media.api-sports.io/football/teams/33.png   |  247 | Celtic              | https://media.api-sports.io/football/teams/247.png  | 103381 | Liam  Miller              |\n",
       "| 2004-08-01 | 9M €    |   33 | Manchester United | https://media.api-sports.io/football/teams/33.png   |   63 | Leeds               | https://media.api-sports.io/football/teams/63.png   |  82150 | Alan Smith                |\n",
       "| 2004-08-01 | € 37M   |   33 | Manchester United | https://media.api-sports.io/football/teams/33.png   |   45 | Everton             | https://media.api-sports.io/football/teams/45.png   |  50773 | W. Rooney                 |\n",
       "| 2004-07-01 | Swap    |   63 | Leeds             | https://media.api-sports.io/football/teams/63.png   |   33 | Manchester United   | https://media.api-sports.io/football/teams/33.png   |  17924 | D. Pugh                   |\n",
       "| 2003-08-12 | € 8.6M  |   33 | Manchester United | https://media.api-sports.io/football/teams/33.png   |  134 | Atletico Paranaense | https://media.api-sports.io/football/teams/134.png  | 114648 | José Kléberson Pereira    |\n",
       "| 2003-08-01 | Free    |   38 | Watford           | https://media.api-sports.io/football/teams/38.png   |   33 | Manchester United   | https://media.api-sports.io/football/teams/33.png   | 231015 | D. Webber                 |\n",
       "| 2003-08-01 | Loan    |  740 | Antwerp           | https://media.api-sports.io/football/teams/740.png  |   33 | Manchester United   | https://media.api-sports.io/football/teams/33.png   |  18912 | P. Bardsley               |\n",
       "| 2003-08-01 | € 3.2M  |   33 | Manchester United | https://media.api-sports.io/football/teams/33.png   | 1602 | New York Red Bulls  | https://media.api-sports.io/football/teams/1602.png |  51298 | Timothy Matthew Howard    |\n",
       "| 2003-08-01 | € 3M    |   33 | Manchester United | https://media.api-sports.io/football/teams/33.png   |  746 | Sunderland          | https://media.api-sports.io/football/teams/746.png  | 113701 | D. Bellion                |\n",
       "| 2003-08-01 | € 37.5M |  541 | Real Madrid       | https://media.api-sports.io/football/teams/541.png  |   33 | Manchester United   | https://media.api-sports.io/football/teams/33.png   | 113755 | D. Beckham                |\n",
       "| 2003-07-03 | 4M €    |   33 | Manchester United | https://media.api-sports.io/football/teams/33.png   |   83 | Nantes              | https://media.api-sports.io/football/teams/83.png   | 117327 | Eric Daniel Djemba-Djemba |\n",
       "| 2003-07-01 | € 17.5M |   33 | Manchester United | https://media.api-sports.io/football/teams/33.png   |  228 | Sporting CP         | https://media.api-sports.io/football/teams/228.png  |    874 | Cristiano Ronaldo         |\n",
       "| 2002-08-01 | € 46M   |   33 | Manchester United | https://media.api-sports.io/football/teams/33.png   |   63 | Leeds               | https://media.api-sports.io/football/teams/63.png   | 114764 | R. Ferdinand              |\n",
       "| 2002-02-01 | Loan    |   38 | Watford           | https://media.api-sports.io/football/teams/38.png   |   33 | Manchester United   | https://media.api-sports.io/football/teams/33.png   | 231015 | D. Webber                 |\n",
       "| 2002-01-01 | 11M €   |   33 | Manchester United | https://media.api-sports.io/football/teams/33.png   |  453 | Independiente       | https://media.api-sports.io/football/teams/453.png  | 110391 | Diego Forlán Corazo       |\n",
       "| 2001-12-01 | Loan    | 1351 | Port Vale         | https://media.api-sports.io/football/teams/1351.png |   33 | Manchester United   | https://media.api-sports.io/football/teams/33.png   | 231015 | D. Webber                 |\n",
       "| 2001-08-01 | € 3M    |   70 | Middlesbrough     | https://media.api-sports.io/football/teams/70.png   |   33 | Manchester United   | https://media.api-sports.io/football/teams/33.png   | 115964 | J. Greening               |\n",
       "| 2000-09-01 | Loan    |  740 | Antwerp           | https://media.api-sports.io/football/teams/740.png  |   33 | Manchester United   | https://media.api-sports.io/football/teams/33.png   |  19609 | J. O&amp;apos;Shea            |\n",
       "| 2000-08-01 | € 3M    |   69 | Derby             | https://media.api-sports.io/football/teams/69.png   |   33 | Manchester United   | https://media.api-sports.io/football/teams/33.png   | 114896 | D. Higginbotham           |\n",
       "\n"
      ],
      "text/plain": [
       "    date       type    teams.in.id teams.in.name      \n",
       "1   2099-09-01 Loan      35        Bournemouth        \n",
       "2   2098-08-01 € 750K    33        Manchester United  \n",
       "3   2094-07-01 Loan      59        Preston            \n",
       "4   2024-07-01 N/A       33        Manchester United  \n",
       "5   2024-07-01 N/A       33        Manchester United  \n",
       "6   2024-07-01 N/A       33        Manchester United  \n",
       "7   2024-07-01 N/A      502        Fiorentina         \n",
       "8   2024-07-01 N/A       33        Manchester United  \n",
       "9   2024-07-01 N/A       33        Manchester United  \n",
       "10  2024-07-01 N/A       33        Manchester United  \n",
       "11  2024-07-01 N/A       33        Manchester United  \n",
       "12  2024-07-01 N/A       33        Manchester United  \n",
       "13  2024-07-01 N/A       33        Manchester United  \n",
       "14  2024-07-01 N/A       33        Manchester United  \n",
       "15  2024-06-01 N/A       33        Manchester United  \n",
       "16  2024-02-01 N/A      162        Werder Bremen      \n",
       "17  2024-01-31 Loan     715        Granada CF         \n",
       "18  2024-01-23 Loan    1351        Port Vale          \n",
       "19  2024-01-16 Loan     211        Benfica            \n",
       "20  2024-01-16 Loan     211        Benfica            \n",
       "21  2024-01-15 Loan     536        Sevilla            \n",
       "22  2024-01-12 Loan     748        Burton Albion      \n",
       "23  2024-01-11 Loan     165        Borussia Dortmund  \n",
       "24  2024-01-01 Loan     169        Eintracht Frankfurt\n",
       "25  2023-09-04 Free     549        Besiktas           \n",
       "26  2023-09-01 Loan      33        Manchester United  \n",
       "27  2023-09-01 Loan      33        Manchester United  \n",
       "28  2023-09-01 € 5M      33        Manchester United  \n",
       "29  2023-09-01 Loan     546        Getafe             \n",
       "30  2023-09-01 Loan     715        Granada CF         \n",
       "⋮   ⋮          ⋮       ⋮           ⋮                  \n",
       "609 2005-08-01 Loan      59        Preston            \n",
       "610 2005-08-01 Loan    1335        Charlton           \n",
       "611 2005-08-01 Loan      51        Brighton           \n",
       "612 2005-08-01 € 4M      33        Manchester United  \n",
       "613 2005-08-01 Loan      38        Watford            \n",
       "614 2005-07-01 Loan      48        West Ham           \n",
       "615 2005-07-01 € 2M      33        Manchester United  \n",
       "616 2005-01-31 2.2M €    66        Aston Villa        \n",
       "617 2005-01-01 Loan      38        Watford            \n",
       "618 2004-12-01 Loan    1342        Walsall            \n",
       "619 2004-08-21 3.2M €   533        Villarreal         \n",
       "620 2004-08-01 Free      33        Manchester United  \n",
       "621 2004-08-01 9M €      33        Manchester United  \n",
       "622 2004-08-01 € 37M     33        Manchester United  \n",
       "623 2004-07-01 Swap      63        Leeds              \n",
       "624 2003-08-12 € 8.6M    33        Manchester United  \n",
       "625 2003-08-01 Free      38        Watford            \n",
       "626 2003-08-01 Loan     740        Antwerp            \n",
       "627 2003-08-01 € 3.2M    33        Manchester United  \n",
       "628 2003-08-01 € 3M      33        Manchester United  \n",
       "629 2003-08-01 € 37.5M  541        Real Madrid        \n",
       "630 2003-07-03 4M €      33        Manchester United  \n",
       "631 2003-07-01 € 17.5M   33        Manchester United  \n",
       "632 2002-08-01 € 46M     33        Manchester United  \n",
       "633 2002-02-01 Loan      38        Watford            \n",
       "634 2002-01-01 11M €     33        Manchester United  \n",
       "635 2001-12-01 Loan    1351        Port Vale          \n",
       "636 2001-08-01 € 3M      70        Middlesbrough      \n",
       "637 2000-09-01 Loan     740        Antwerp            \n",
       "638 2000-08-01 € 3M      69        Derby              \n",
       "    teams.in.logo                                       teams.out.id\n",
       "1   https://media.api-sports.io/football/teams/35.png     33        \n",
       "2   https://media.api-sports.io/football/teams/33.png   1828        \n",
       "3   https://media.api-sports.io/football/teams/59.png     33        \n",
       "4   https://media.api-sports.io/football/teams/33.png    748        \n",
       "5   https://media.api-sports.io/football/teams/33.png   1351        \n",
       "6   https://media.api-sports.io/football/teams/33.png    715        \n",
       "7   https://media.api-sports.io/football/teams/502.png    33        \n",
       "8   https://media.api-sports.io/football/teams/33.png    536        \n",
       "9   https://media.api-sports.io/football/teams/33.png    546        \n",
       "10  https://media.api-sports.io/football/teams/33.png    169        \n",
       "11  https://media.api-sports.io/football/teams/33.png    165        \n",
       "12  https://media.api-sports.io/football/teams/33.png    211        \n",
       "13  https://media.api-sports.io/football/teams/33.png    211        \n",
       "14  https://media.api-sports.io/football/teams/33.png    249        \n",
       "15  https://media.api-sports.io/football/teams/33.png     55        \n",
       "16  https://media.api-sports.io/football/teams/162.png    33        \n",
       "17  https://media.api-sports.io/football/teams/715.png    33        \n",
       "18  https://media.api-sports.io/football/teams/1351.png   33        \n",
       "19  https://media.api-sports.io/football/teams/211.png    33        \n",
       "20  https://media.api-sports.io/football/teams/211.png    33        \n",
       "21  https://media.api-sports.io/football/teams/536.png    33        \n",
       "22  https://media.api-sports.io/football/teams/748.png    33        \n",
       "23  https://media.api-sports.io/football/teams/165.png    33        \n",
       "24  https://media.api-sports.io/football/teams/169.png    33        \n",
       "25  https://media.api-sports.io/football/teams/549.png    33        \n",
       "26  https://media.api-sports.io/football/teams/33.png     47        \n",
       "27  https://media.api-sports.io/football/teams/33.png    502        \n",
       "28  https://media.api-sports.io/football/teams/33.png    611        \n",
       "29  https://media.api-sports.io/football/teams/546.png    33        \n",
       "30  https://media.api-sports.io/football/teams/715.png    33        \n",
       "⋮   ⋮                                                   ⋮           \n",
       "609 https://media.api-sports.io/football/teams/59.png     33        \n",
       "610 https://media.api-sports.io/football/teams/1335.png   33        \n",
       "611 https://media.api-sports.io/football/teams/51.png     33        \n",
       "612 https://media.api-sports.io/football/teams/33.png     36        \n",
       "613 https://media.api-sports.io/football/teams/38.png     33        \n",
       "614 https://media.api-sports.io/football/teams/48.png     33        \n",
       "615 https://media.api-sports.io/football/teams/33.png     75        \n",
       "616 https://media.api-sports.io/football/teams/66.png     33        \n",
       "617 https://media.api-sports.io/football/teams/38.png     33        \n",
       "618 https://media.api-sports.io/football/teams/1342.png   33        \n",
       "619 https://media.api-sports.io/football/teams/533.png    33        \n",
       "620 https://media.api-sports.io/football/teams/33.png    247        \n",
       "621 https://media.api-sports.io/football/teams/33.png     63        \n",
       "622 https://media.api-sports.io/football/teams/33.png     45        \n",
       "623 https://media.api-sports.io/football/teams/63.png     33        \n",
       "624 https://media.api-sports.io/football/teams/33.png    134        \n",
       "625 https://media.api-sports.io/football/teams/38.png     33        \n",
       "626 https://media.api-sports.io/football/teams/740.png    33        \n",
       "627 https://media.api-sports.io/football/teams/33.png   1602        \n",
       "628 https://media.api-sports.io/football/teams/33.png    746        \n",
       "629 https://media.api-sports.io/football/teams/541.png    33        \n",
       "630 https://media.api-sports.io/football/teams/33.png     83        \n",
       "631 https://media.api-sports.io/football/teams/33.png    228        \n",
       "632 https://media.api-sports.io/football/teams/33.png     63        \n",
       "633 https://media.api-sports.io/football/teams/38.png     33        \n",
       "634 https://media.api-sports.io/football/teams/33.png    453        \n",
       "635 https://media.api-sports.io/football/teams/1351.png   33        \n",
       "636 https://media.api-sports.io/football/teams/70.png     33        \n",
       "637 https://media.api-sports.io/football/teams/740.png    33        \n",
       "638 https://media.api-sports.io/football/teams/69.png     33        \n",
       "    teams.out.name      teams.out.logo                                     \n",
       "1   Manchester United   https://media.api-sports.io/football/teams/33.png  \n",
       "2   York                https://media.api-sports.io/football/teams/1828.png\n",
       "3   Manchester United   https://media.api-sports.io/football/teams/33.png  \n",
       "4   Burton Albion       https://media.api-sports.io/football/teams/748.png \n",
       "5   Port Vale           https://media.api-sports.io/football/teams/1351.png\n",
       "6   Granada CF          https://media.api-sports.io/football/teams/715.png \n",
       "7   Manchester United   https://media.api-sports.io/football/teams/33.png  \n",
       "8   Sevilla             https://media.api-sports.io/football/teams/536.png \n",
       "9   Getafe              https://media.api-sports.io/football/teams/546.png \n",
       "10  Eintracht Frankfurt https://media.api-sports.io/football/teams/169.png \n",
       "11  Borussia Dortmund   https://media.api-sports.io/football/teams/165.png \n",
       "12  Benfica             https://media.api-sports.io/football/teams/211.png \n",
       "13  Benfica             https://media.api-sports.io/football/teams/211.png \n",
       "14  Hibernian           https://media.api-sports.io/football/teams/249.png \n",
       "15  Brentford           https://media.api-sports.io/football/teams/55.png  \n",
       "16  Manchester United   https://media.api-sports.io/football/teams/33.png  \n",
       "17  Manchester United   https://media.api-sports.io/football/teams/33.png  \n",
       "18  Manchester United   https://media.api-sports.io/football/teams/33.png  \n",
       "19  Manchester United   https://media.api-sports.io/football/teams/33.png  \n",
       "20  Manchester United   https://media.api-sports.io/football/teams/33.png  \n",
       "21  Manchester United   https://media.api-sports.io/football/teams/33.png  \n",
       "22  Manchester United   https://media.api-sports.io/football/teams/33.png  \n",
       "23  Manchester United   https://media.api-sports.io/football/teams/33.png  \n",
       "24  Manchester United   https://media.api-sports.io/football/teams/33.png  \n",
       "25  Manchester United   https://media.api-sports.io/football/teams/33.png  \n",
       "26  Tottenham           https://media.api-sports.io/football/teams/47.png  \n",
       "27  Fiorentina          https://media.api-sports.io/football/teams/502.png \n",
       "28  Fenerbahce          https://media.api-sports.io/football/teams/611.png \n",
       "29  Manchester United   https://media.api-sports.io/football/teams/33.png  \n",
       "30  Manchester United   https://media.api-sports.io/football/teams/33.png  \n",
       "⋮   ⋮                   ⋮                                                  \n",
       "609 Manchester United   https://media.api-sports.io/football/teams/33.png  \n",
       "610 Manchester United   https://media.api-sports.io/football/teams/33.png  \n",
       "611 Manchester United   https://media.api-sports.io/football/teams/33.png  \n",
       "612 Fulham              https://media.api-sports.io/football/teams/36.png  \n",
       "613 Manchester United   https://media.api-sports.io/football/teams/33.png  \n",
       "614 Manchester United   https://media.api-sports.io/football/teams/33.png  \n",
       "615 Stoke City          https://media.api-sports.io/football/teams/75.png  \n",
       "616 Manchester United   https://media.api-sports.io/football/teams/33.png  \n",
       "617 Manchester United   https://media.api-sports.io/football/teams/33.png  \n",
       "618 Manchester United   https://media.api-sports.io/football/teams/33.png  \n",
       "619 Manchester United   https://media.api-sports.io/football/teams/33.png  \n",
       "620 Celtic              https://media.api-sports.io/football/teams/247.png \n",
       "621 Leeds               https://media.api-sports.io/football/teams/63.png  \n",
       "622 Everton             https://media.api-sports.io/football/teams/45.png  \n",
       "623 Manchester United   https://media.api-sports.io/football/teams/33.png  \n",
       "624 Atletico Paranaense https://media.api-sports.io/football/teams/134.png \n",
       "625 Manchester United   https://media.api-sports.io/football/teams/33.png  \n",
       "626 Manchester United   https://media.api-sports.io/football/teams/33.png  \n",
       "627 New York Red Bulls  https://media.api-sports.io/football/teams/1602.png\n",
       "628 Sunderland          https://media.api-sports.io/football/teams/746.png \n",
       "629 Manchester United   https://media.api-sports.io/football/teams/33.png  \n",
       "630 Nantes              https://media.api-sports.io/football/teams/83.png  \n",
       "631 Sporting CP         https://media.api-sports.io/football/teams/228.png \n",
       "632 Leeds               https://media.api-sports.io/football/teams/63.png  \n",
       "633 Manchester United   https://media.api-sports.io/football/teams/33.png  \n",
       "634 Independiente       https://media.api-sports.io/football/teams/453.png \n",
       "635 Manchester United   https://media.api-sports.io/football/teams/33.png  \n",
       "636 Manchester United   https://media.api-sports.io/football/teams/33.png  \n",
       "637 Manchester United   https://media.api-sports.io/football/teams/33.png  \n",
       "638 Manchester United   https://media.api-sports.io/football/teams/33.png  \n",
       "    player.id player.name              \n",
       "1    19609    J. O&apos;Shea           \n",
       "2   115964    J. Greening              \n",
       "3   113755    D. Beckham               \n",
       "4   282133    J. Hugill                \n",
       "5   303010    D. Gore                  \n",
       "6    70078    F. Pellistri             \n",
       "7       74    S. Amrabat               \n",
       "8   180560    H. Mejbri                \n",
       "9      897    M. Greenwood             \n",
       "10     547    D. van de Beek           \n",
       "11      18    J. Sancho                \n",
       "12  284300    Álvaro Fernández         \n",
       "13  284300    Álvaro Fernández         \n",
       "14  153434    W. Fish                  \n",
       "15     739    Sergio Reguilón          \n",
       "16  216770    I. Hansen-Aarøen         \n",
       "17   70078    F. Pellistri             \n",
       "18  303010    D. Gore                  \n",
       "19  284300    Álvaro Fernández         \n",
       "20  284300    Álvaro Fernández         \n",
       "21  180560    H. Mejbri                \n",
       "22  282133    J. Hugill                \n",
       "23      18    J. Sancho                \n",
       "24     547    D. van de Beek           \n",
       "25     885    E. Bailly                \n",
       "26     739    Sergio Reguilón          \n",
       "27      74    S. Amrabat               \n",
       "28   50132    A. Bayındır              \n",
       "29     897    M. Greenwood             \n",
       "30  284300    Álvaro Fernández         \n",
       "⋮   ⋮         ⋮                        \n",
       "609  19390    David Jones              \n",
       "610  44837    J. Spector               \n",
       "611  19606    Paul  McShane            \n",
       "612 115977    E. van der Sar           \n",
       "613  18791    B. Foster                \n",
       "614 113701    D. Bellion               \n",
       "615  18791    B. Foster                \n",
       "616 117327    Eric Daniel Djemba-Djemba\n",
       "617  82242    C. Eagles                \n",
       "618  19606    Paul  McShane            \n",
       "619 110391    Diego Forlán Corazo      \n",
       "620 103381    Liam  Miller             \n",
       "621  82150    Alan Smith               \n",
       "622  50773    W. Rooney                \n",
       "623  17924    D. Pugh                  \n",
       "624 114648    José Kléberson Pereira   \n",
       "625 231015    D. Webber                \n",
       "626  18912    P. Bardsley              \n",
       "627  51298    Timothy Matthew Howard   \n",
       "628 113701    D. Bellion               \n",
       "629 113755    D. Beckham               \n",
       "630 117327    Eric Daniel Djemba-Djemba\n",
       "631    874    Cristiano Ronaldo        \n",
       "632 114764    R. Ferdinand             \n",
       "633 231015    D. Webber                \n",
       "634 110391    Diego Forlán Corazo      \n",
       "635 231015    D. Webber                \n",
       "636 115964    J. Greening              \n",
       "637  19609    J. O&apos;Shea           \n",
       "638 114896    D. Higginbotham          "
      ]
     },
     "metadata": {},
     "output_type": "display_data"
    }
   ],
   "source": [
    "transfers"
   ]
  },
  {
   "cell_type": "code",
   "execution_count": 31,
   "metadata": {
    "vscode": {
     "languageId": "r"
    }
   },
   "outputs": [
    {
     "name": "stdout",
     "output_type": "stream",
     "text": [
      "The following package(s) will be updated in the lockfile:\n",
      "\n",
      "# CRAN -----------------------------------------------------------------------\n",
      "- MASS   [* -> 7.3-60.0.1]\n",
      "\n",
      "- Lockfile written to \"~/MDS Files/BLOCK 4/DATA 534/Project/DATA534_Project_Group8/Extras/renv.lock\".\n"
     ]
    }
   ],
   "source": []
  }
 ],
 "metadata": {
  "kernelspec": {
   "display_name": "R",
   "language": "R",
   "name": "ir"
  },
  "language_info": {
   "codemirror_mode": "r",
   "file_extension": ".r",
   "mimetype": "text/x-r-source",
   "name": "R",
   "pygments_lexer": "r",
   "version": "4.3.0"
  }
 },
 "nbformat": 4,
 "nbformat_minor": 2
}
