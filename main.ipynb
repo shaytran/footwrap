{
 "cells": [
  {
   "cell_type": "markdown",
   "metadata": {},
   "source": [
    "# R NoteBook"
   ]
  },
  {
   "cell_type": "code",
   "execution_count": 4,
   "metadata": {
    "vscode": {
     "languageId": "r"
    }
   },
   "outputs": [
    {
     "name": "stderr",
     "output_type": "stream",
     "text": [
      "No encoding supplied: defaulting to UTF-8.\n",
      "\n"
     ]
    },
    {
     "data": {
      "text/html": [
       "'{\"get\":\"teams\",\"parameters\":[],\"errors\":{\"required\":\"At least one parameter is required.\"},\"results\":0,\"paging\":{\"current\":1,\"total\":1},\"response\":[]}'"
      ],
      "text/latex": [
       "'\\{\"get\":\"teams\",\"parameters\":{[}{]},\"errors\":\\{\"required\":\"At least one parameter is required.\"\\},\"results\":0,\"paging\":\\{\"current\":1,\"total\":1\\},\"response\":{[}{]}\\}'"
      ],
      "text/markdown": [
       "'{\"get\":\"teams\",\"parameters\":[],\"errors\":{\"required\":\"At least one parameter is required.\"},\"results\":0,\"paging\":{\"current\":1,\"total\":1},\"response\":[]}'"
      ],
      "text/plain": [
       "[1] \"{\\\"get\\\":\\\"teams\\\",\\\"parameters\\\":[],\\\"errors\\\":{\\\"required\\\":\\\"At least one parameter is required.\\\"},\\\"results\\\":0,\\\"paging\\\":{\\\"current\\\":1,\\\"total\\\":1},\\\"response\\\":[]}\""
      ]
     },
     "metadata": {},
     "output_type": "display_data"
    },
    {
     "data": {
      "text/plain": [
       "Response [https://api-football-v1.p.rapidapi.com/v3/teams]\n",
       "  Date: 2024-01-22 20:58\n",
       "  Status: 200\n",
       "  Content-Type: application/json\n",
       "  Size: 150 B\n"
      ]
     },
     "metadata": {},
     "output_type": "display_data"
    }
   ],
   "source": [
    "library(httr)\n",
    "\n",
    "url <- \"https://api-football-v1.p.rapidapi.com/v3/teams\"\n",
    "\n",
    "response <- VERB(\"GET\", url, add_headers('X-RapidAPI-Key' = '5a6b7eb269msh6f80cf60897917fp1f88b8jsnafdb82562f81', 'X-RapidAPI-Host' = 'api-football-v1.p.rapidapi.com'), content_type(\"application/octet-stream\"))\n",
    "\n",
    "content(response, \"text\")\n",
    "\n",
    "response"
   ]
  }
 ],
 "metadata": {
  "kernelspec": {
   "display_name": "R",
   "language": "R",
   "name": "ir"
  },
  "language_info": {
   "codemirror_mode": "r",
   "file_extension": ".r",
   "mimetype": "text/x-r-source",
   "name": "R",
   "pygments_lexer": "r",
   "version": "4.3.1"
  }
 },
 "nbformat": 4,
 "nbformat_minor": 2
}
